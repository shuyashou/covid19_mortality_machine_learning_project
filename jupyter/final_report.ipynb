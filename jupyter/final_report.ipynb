{
 "cells": [
  {
   "cell_type": "code",
   "execution_count": 82,
   "id": "ca4435e5-85db-4a7c-9981-4258167b1e71",
   "metadata": {
    "tags": []
   },
   "outputs": [],
   "source": [
    "import pandas as pd\n",
    "import numpy as np\n",
    "import torch\n",
    "import torch.nn as nn\n",
    "import torch.nn.functional as F\n",
    "from sklearn.utils import shuffle\n",
    "from torch.utils.data import TensorDataset, DataLoader\n",
    "from sklearn.model_selection import train_test_split, StratifiedKFold, RandomizedSearchCV\n",
    "from sklearn.metrics import roc_auc_score, precision_score, recall_score, auc, precision_recall_curve, accuracy_score, roc_curve, average_precision_score, confusion_matrix, ConfusionMatrixDisplay\n",
    "from sklearn.ensemble import RandomForestClassifier\n",
    "from sklearn.feature_selection import RFECV\n",
    "import matplotlib.pyplot as plt\n",
    "import seaborn as sns\n",
    "import os\n",
    "import pickle"
   ]
  },
  {
   "cell_type": "markdown",
   "id": "26a4c79a-b054-4120-942a-dd8a359c8a34",
   "metadata": {},
   "source": [
    "# Machine Learning for Covid Mortality\n",
    "\n",
    "## Abstract\n",
    "In this project, we aim to investigate the intricate relationship between different factors and the mortality rate of COVID-19 by employing a range of machine-learning techniques. Our objective is to develop predictive models that not only enhance our understanding of risk factors but also aid public health strategies in mitigating the impact of pandemic. \n",
    "\n",
    "## Group Members\n",
    "- **Kai Luke Holton**\n",
    "- **Thomas Shou**\n",
    "- **Omobolade Odedoyin**\n",
    "- **Dee Velazquez**\n",
    "\n",
    "## Project Links\n",
    "Access our complete project code and documentation [here on GitHub](https://github.com/shuyashou/cs475_final_project).\n",
    "\n",
    "Access our pre-trained models [through web interface](https://cs475project-c17babadc414.herokuapp.com/).\n",
    "\n",
    "## Introduction\n",
    "The COVID-19 pandemic has presented unprecedented challenges across the globe, affecting various aspects of life and necessitating robust data analysis to understand and combat the virus effectively. Our project focuses on analyzing case data to predict trends and potential outbreaks using advanced machine learning techniques. This report details our methodologies, findings, and the implications of our work.\n",
    "\n",
    "We structured our project into several key phases:\n",
    "1. **Data Collection**: Gathering the latest COVID-19 mortality data from CDC.\n",
    "2. **Data Cleaning and Preprocessing**: Ensuring data quality and readiness for analysis.\n",
    "3. **Exploratory Data Analysis (EDA)**: Identifying trends and patterns from the data.\n",
    "4. **Model Development and Evaluation**: Building and tuning models to predict future case counts and assessing the performance and reliability.\n",
    "5. **Insights and Recommendations**: Drawing conclusions and providing actionable insights based on our models' outputs.\n",
    "\n",
    "In the following sections, we delve into each of these areas, presenting our approaches, techniques used, and the outcomes of our analysis.\n"
   ]
  },
  {
   "cell_type": "markdown",
   "id": "0c3c8822-2afc-4ca2-b6e4-46e03a46652e",
   "metadata": {
    "tags": []
   },
   "source": [
    "## Data Collection\n",
    "\n",
    "### Data Source\n",
    "Our project utilizes data from the [COVID-19 Case Surveillance Public Use Data](https://data.cdc.gov/Case-Surveillance/COVID-19-Case-Surveillance-Public-Use-Data/vbim-akqf/about_data), which is maintained by the Centers for Disease Control and Prevention (CDC). \n",
    "\n",
    "### Data Acquisition\n",
    "We fetch their dataset from their public API, load it into pandas dataframe, drop rows with missing values, and save it as pickle file. The python source code can be access [here](https://github.com/shuyashou/cs475_final_project/blob/main/scripts/download.py).\n",
    "\n",
    "### Data Dictionary\n",
    "- `cdc_case_earliest_dt`: The earlier of the Clinical Date (date related to the illness or specimen collection) or the Date Received by CDC.\n",
    "- `cdc_report_dt`: Date case was first reported to the CDC.\n",
    "- `pos_spec_dt`: Date of first positive specimen collection.\n",
    "- `onset_dt`: Symptom onset date.\n",
    "- `current_status`: Case Status (Case Report Form: What is the current status of this person?)\n",
    "- `sex`: Sex (Case Report Form)\n",
    "- `age_group`: Age Groups\n",
    "- `race_ethnicity_combined`: Race and ethnicity (combined).\n",
    "- `hosp_yn`: Hospitalization status (Case Report Form: Was the patient hospitalized?)\n",
    "- `icu_yn`: ICU admission status (Case Report Form: Was the patient admitted to an intensive care unit (ICU)?)\n",
    "- `death_yn`: Death status (Case Report Form: Did the patient die as a result of this illness?)\n",
    "- `medcond_yn`: Presence of underlying comorbidity or disease (Case Report Form: Pre-existing medical conditions?)\n",
    "\n",
    "### Initial Observations\n",
    "- The dataset contains 106 million rows and 12 columns, each row is a deidentified patient.\n",
    "- The dataset contains lots of missing/unknown values. \n"
   ]
  },
  {
   "cell_type": "markdown",
   "id": "477ab265-8b80-4321-8b75-caec253b78a3",
   "metadata": {},
   "source": [
    "## Data Cleaning and Preprocessing\n",
    "\n",
    "### Steps:\n",
    "1. Drop any row with missing/unknown values. This reduces size of dataset from 106 M to 700 K. (This part handled in the previous data collection part.)\n",
    "2. Get rid of all columns related to date/time.\n",
    "3. One-hot encode all categorical variables and keep only one of any column with binary outcome after one-hot encoding. \n"
   ]
  },
  {
   "cell_type": "code",
   "execution_count": 30,
   "id": "bed545ea-c542-4d6a-a9d5-057269f74060",
   "metadata": {
    "tags": []
   },
   "outputs": [],
   "source": [
    "df = pd.read_pickle(\"./cdcdata.pkl\")"
   ]
  },
  {
   "cell_type": "code",
   "execution_count": 31,
   "id": "daaf9caa-9e0f-4ba2-b52b-17e7f412bfee",
   "metadata": {
    "tags": []
   },
   "outputs": [],
   "source": [
    "def one_hot_encode_features(df, columns_to_encode):\n",
    "    for column in columns_to_encode:\n",
    "        if column not in df.columns:\n",
    "            raise ValueError(f\"Column '{column}' not found in DataFrame.\")\n",
    "\n",
    "    df_encoded = pd.get_dummies(df, columns=columns_to_encode)\n",
    "\n",
    "    return df_encoded\n",
    "\n",
    "columns_to_encode = ['current_status', 'sex', 'age_group', 'race_ethnicity_combined', 'hosp_yn', 'icu_yn', 'death_yn', 'medcond_yn']\n",
    "cols_to_drop = ['cdc_case_earliest_dt', 'cdc_report_dt', 'pos_spec_dt', 'onset_dt', 'hosp_yn_No', 'icu_yn_No', 'death_yn_No', 'medcond_yn_No']\n",
    "\n",
    "df_encoded = one_hot_encode_features(df, columns_to_encode)\n",
    "df_dropped = df_encoded.drop(cols_to_drop, axis=1)\n",
    "df = df_dropped"
   ]
  },
  {
   "cell_type": "code",
   "execution_count": 32,
   "id": "36ab04ce-5106-4463-a175-7143f3a31e52",
   "metadata": {
    "tags": []
   },
   "outputs": [
    {
     "data": {
      "text/html": [
       "<div>\n",
       "<style scoped>\n",
       "    .dataframe tbody tr th:only-of-type {\n",
       "        vertical-align: middle;\n",
       "    }\n",
       "\n",
       "    .dataframe tbody tr th {\n",
       "        vertical-align: top;\n",
       "    }\n",
       "\n",
       "    .dataframe thead th {\n",
       "        text-align: right;\n",
       "    }\n",
       "</style>\n",
       "<table border=\"1\" class=\"dataframe\">\n",
       "  <thead>\n",
       "    <tr style=\"text-align: right;\">\n",
       "      <th></th>\n",
       "      <th>current_status_Laboratory-confirmed case</th>\n",
       "      <th>current_status_Probable Case</th>\n",
       "      <th>sex_Female</th>\n",
       "      <th>sex_Male</th>\n",
       "      <th>sex_Other</th>\n",
       "      <th>age_group_0 - 9 Years</th>\n",
       "      <th>age_group_10 - 19 Years</th>\n",
       "      <th>age_group_20 - 29 Years</th>\n",
       "      <th>age_group_30 - 39 Years</th>\n",
       "      <th>age_group_40 - 49 Years</th>\n",
       "      <th>...</th>\n",
       "      <th>race_ethnicity_combined_Asian, Non-Hispanic</th>\n",
       "      <th>race_ethnicity_combined_Black, Non-Hispanic</th>\n",
       "      <th>race_ethnicity_combined_Hispanic/Latino</th>\n",
       "      <th>race_ethnicity_combined_Multiple/Other, Non-Hispanic</th>\n",
       "      <th>race_ethnicity_combined_Native Hawaiian/Other Pacific Islander, Non-Hispanic</th>\n",
       "      <th>race_ethnicity_combined_White, Non-Hispanic</th>\n",
       "      <th>hosp_yn_Yes</th>\n",
       "      <th>icu_yn_Yes</th>\n",
       "      <th>death_yn_Yes</th>\n",
       "      <th>medcond_yn_Yes</th>\n",
       "    </tr>\n",
       "  </thead>\n",
       "  <tbody>\n",
       "    <tr>\n",
       "      <th>6</th>\n",
       "      <td>True</td>\n",
       "      <td>False</td>\n",
       "      <td>False</td>\n",
       "      <td>True</td>\n",
       "      <td>False</td>\n",
       "      <td>False</td>\n",
       "      <td>False</td>\n",
       "      <td>False</td>\n",
       "      <td>False</td>\n",
       "      <td>False</td>\n",
       "      <td>...</td>\n",
       "      <td>False</td>\n",
       "      <td>False</td>\n",
       "      <td>True</td>\n",
       "      <td>False</td>\n",
       "      <td>False</td>\n",
       "      <td>False</td>\n",
       "      <td>True</td>\n",
       "      <td>False</td>\n",
       "      <td>False</td>\n",
       "      <td>False</td>\n",
       "    </tr>\n",
       "    <tr>\n",
       "      <th>11</th>\n",
       "      <td>True</td>\n",
       "      <td>False</td>\n",
       "      <td>False</td>\n",
       "      <td>True</td>\n",
       "      <td>False</td>\n",
       "      <td>False</td>\n",
       "      <td>False</td>\n",
       "      <td>False</td>\n",
       "      <td>False</td>\n",
       "      <td>False</td>\n",
       "      <td>...</td>\n",
       "      <td>False</td>\n",
       "      <td>False</td>\n",
       "      <td>True</td>\n",
       "      <td>False</td>\n",
       "      <td>False</td>\n",
       "      <td>False</td>\n",
       "      <td>True</td>\n",
       "      <td>False</td>\n",
       "      <td>False</td>\n",
       "      <td>True</td>\n",
       "    </tr>\n",
       "    <tr>\n",
       "      <th>30</th>\n",
       "      <td>True</td>\n",
       "      <td>False</td>\n",
       "      <td>False</td>\n",
       "      <td>True</td>\n",
       "      <td>False</td>\n",
       "      <td>False</td>\n",
       "      <td>False</td>\n",
       "      <td>False</td>\n",
       "      <td>False</td>\n",
       "      <td>False</td>\n",
       "      <td>...</td>\n",
       "      <td>False</td>\n",
       "      <td>False</td>\n",
       "      <td>True</td>\n",
       "      <td>False</td>\n",
       "      <td>False</td>\n",
       "      <td>False</td>\n",
       "      <td>True</td>\n",
       "      <td>False</td>\n",
       "      <td>False</td>\n",
       "      <td>True</td>\n",
       "    </tr>\n",
       "    <tr>\n",
       "      <th>36</th>\n",
       "      <td>True</td>\n",
       "      <td>False</td>\n",
       "      <td>False</td>\n",
       "      <td>True</td>\n",
       "      <td>False</td>\n",
       "      <td>False</td>\n",
       "      <td>False</td>\n",
       "      <td>False</td>\n",
       "      <td>False</td>\n",
       "      <td>False</td>\n",
       "      <td>...</td>\n",
       "      <td>False</td>\n",
       "      <td>False</td>\n",
       "      <td>True</td>\n",
       "      <td>False</td>\n",
       "      <td>False</td>\n",
       "      <td>False</td>\n",
       "      <td>True</td>\n",
       "      <td>False</td>\n",
       "      <td>False</td>\n",
       "      <td>True</td>\n",
       "    </tr>\n",
       "    <tr>\n",
       "      <th>40</th>\n",
       "      <td>True</td>\n",
       "      <td>False</td>\n",
       "      <td>False</td>\n",
       "      <td>True</td>\n",
       "      <td>False</td>\n",
       "      <td>False</td>\n",
       "      <td>False</td>\n",
       "      <td>False</td>\n",
       "      <td>False</td>\n",
       "      <td>False</td>\n",
       "      <td>...</td>\n",
       "      <td>False</td>\n",
       "      <td>False</td>\n",
       "      <td>True</td>\n",
       "      <td>False</td>\n",
       "      <td>False</td>\n",
       "      <td>False</td>\n",
       "      <td>True</td>\n",
       "      <td>False</td>\n",
       "      <td>False</td>\n",
       "      <td>True</td>\n",
       "    </tr>\n",
       "    <tr>\n",
       "      <th>...</th>\n",
       "      <td>...</td>\n",
       "      <td>...</td>\n",
       "      <td>...</td>\n",
       "      <td>...</td>\n",
       "      <td>...</td>\n",
       "      <td>...</td>\n",
       "      <td>...</td>\n",
       "      <td>...</td>\n",
       "      <td>...</td>\n",
       "      <td>...</td>\n",
       "      <td>...</td>\n",
       "      <td>...</td>\n",
       "      <td>...</td>\n",
       "      <td>...</td>\n",
       "      <td>...</td>\n",
       "      <td>...</td>\n",
       "      <td>...</td>\n",
       "      <td>...</td>\n",
       "      <td>...</td>\n",
       "      <td>...</td>\n",
       "      <td>...</td>\n",
       "    </tr>\n",
       "    <tr>\n",
       "      <th>18336515</th>\n",
       "      <td>True</td>\n",
       "      <td>False</td>\n",
       "      <td>True</td>\n",
       "      <td>False</td>\n",
       "      <td>False</td>\n",
       "      <td>True</td>\n",
       "      <td>False</td>\n",
       "      <td>False</td>\n",
       "      <td>False</td>\n",
       "      <td>False</td>\n",
       "      <td>...</td>\n",
       "      <td>False</td>\n",
       "      <td>False</td>\n",
       "      <td>True</td>\n",
       "      <td>False</td>\n",
       "      <td>False</td>\n",
       "      <td>False</td>\n",
       "      <td>False</td>\n",
       "      <td>False</td>\n",
       "      <td>False</td>\n",
       "      <td>False</td>\n",
       "    </tr>\n",
       "    <tr>\n",
       "      <th>18336519</th>\n",
       "      <td>True</td>\n",
       "      <td>False</td>\n",
       "      <td>True</td>\n",
       "      <td>False</td>\n",
       "      <td>False</td>\n",
       "      <td>True</td>\n",
       "      <td>False</td>\n",
       "      <td>False</td>\n",
       "      <td>False</td>\n",
       "      <td>False</td>\n",
       "      <td>...</td>\n",
       "      <td>False</td>\n",
       "      <td>False</td>\n",
       "      <td>True</td>\n",
       "      <td>False</td>\n",
       "      <td>False</td>\n",
       "      <td>False</td>\n",
       "      <td>False</td>\n",
       "      <td>False</td>\n",
       "      <td>False</td>\n",
       "      <td>False</td>\n",
       "    </tr>\n",
       "    <tr>\n",
       "      <th>18336523</th>\n",
       "      <td>True</td>\n",
       "      <td>False</td>\n",
       "      <td>True</td>\n",
       "      <td>False</td>\n",
       "      <td>False</td>\n",
       "      <td>True</td>\n",
       "      <td>False</td>\n",
       "      <td>False</td>\n",
       "      <td>False</td>\n",
       "      <td>False</td>\n",
       "      <td>...</td>\n",
       "      <td>False</td>\n",
       "      <td>False</td>\n",
       "      <td>True</td>\n",
       "      <td>False</td>\n",
       "      <td>False</td>\n",
       "      <td>False</td>\n",
       "      <td>False</td>\n",
       "      <td>False</td>\n",
       "      <td>False</td>\n",
       "      <td>False</td>\n",
       "    </tr>\n",
       "    <tr>\n",
       "      <th>18336525</th>\n",
       "      <td>True</td>\n",
       "      <td>False</td>\n",
       "      <td>True</td>\n",
       "      <td>False</td>\n",
       "      <td>False</td>\n",
       "      <td>True</td>\n",
       "      <td>False</td>\n",
       "      <td>False</td>\n",
       "      <td>False</td>\n",
       "      <td>False</td>\n",
       "      <td>...</td>\n",
       "      <td>False</td>\n",
       "      <td>False</td>\n",
       "      <td>True</td>\n",
       "      <td>False</td>\n",
       "      <td>False</td>\n",
       "      <td>False</td>\n",
       "      <td>False</td>\n",
       "      <td>False</td>\n",
       "      <td>False</td>\n",
       "      <td>False</td>\n",
       "    </tr>\n",
       "    <tr>\n",
       "      <th>18336526</th>\n",
       "      <td>True</td>\n",
       "      <td>False</td>\n",
       "      <td>True</td>\n",
       "      <td>False</td>\n",
       "      <td>False</td>\n",
       "      <td>True</td>\n",
       "      <td>False</td>\n",
       "      <td>False</td>\n",
       "      <td>False</td>\n",
       "      <td>False</td>\n",
       "      <td>...</td>\n",
       "      <td>False</td>\n",
       "      <td>False</td>\n",
       "      <td>True</td>\n",
       "      <td>False</td>\n",
       "      <td>False</td>\n",
       "      <td>False</td>\n",
       "      <td>False</td>\n",
       "      <td>False</td>\n",
       "      <td>False</td>\n",
       "      <td>False</td>\n",
       "    </tr>\n",
       "  </tbody>\n",
       "</table>\n",
       "<p>730187 rows × 25 columns</p>\n",
       "</div>"
      ],
      "text/plain": [
       "          current_status_Laboratory-confirmed case  \\\n",
       "6                                             True   \n",
       "11                                            True   \n",
       "30                                            True   \n",
       "36                                            True   \n",
       "40                                            True   \n",
       "...                                            ...   \n",
       "18336515                                      True   \n",
       "18336519                                      True   \n",
       "18336523                                      True   \n",
       "18336525                                      True   \n",
       "18336526                                      True   \n",
       "\n",
       "          current_status_Probable Case  sex_Female  sex_Male  sex_Other  \\\n",
       "6                                False       False      True      False   \n",
       "11                               False       False      True      False   \n",
       "30                               False       False      True      False   \n",
       "36                               False       False      True      False   \n",
       "40                               False       False      True      False   \n",
       "...                                ...         ...       ...        ...   \n",
       "18336515                         False        True     False      False   \n",
       "18336519                         False        True     False      False   \n",
       "18336523                         False        True     False      False   \n",
       "18336525                         False        True     False      False   \n",
       "18336526                         False        True     False      False   \n",
       "\n",
       "          age_group_0 - 9 Years  age_group_10 - 19 Years  \\\n",
       "6                         False                    False   \n",
       "11                        False                    False   \n",
       "30                        False                    False   \n",
       "36                        False                    False   \n",
       "40                        False                    False   \n",
       "...                         ...                      ...   \n",
       "18336515                   True                    False   \n",
       "18336519                   True                    False   \n",
       "18336523                   True                    False   \n",
       "18336525                   True                    False   \n",
       "18336526                   True                    False   \n",
       "\n",
       "          age_group_20 - 29 Years  age_group_30 - 39 Years  \\\n",
       "6                           False                    False   \n",
       "11                          False                    False   \n",
       "30                          False                    False   \n",
       "36                          False                    False   \n",
       "40                          False                    False   \n",
       "...                           ...                      ...   \n",
       "18336515                    False                    False   \n",
       "18336519                    False                    False   \n",
       "18336523                    False                    False   \n",
       "18336525                    False                    False   \n",
       "18336526                    False                    False   \n",
       "\n",
       "          age_group_40 - 49 Years  ...  \\\n",
       "6                           False  ...   \n",
       "11                          False  ...   \n",
       "30                          False  ...   \n",
       "36                          False  ...   \n",
       "40                          False  ...   \n",
       "...                           ...  ...   \n",
       "18336515                    False  ...   \n",
       "18336519                    False  ...   \n",
       "18336523                    False  ...   \n",
       "18336525                    False  ...   \n",
       "18336526                    False  ...   \n",
       "\n",
       "          race_ethnicity_combined_Asian, Non-Hispanic  \\\n",
       "6                                               False   \n",
       "11                                              False   \n",
       "30                                              False   \n",
       "36                                              False   \n",
       "40                                              False   \n",
       "...                                               ...   \n",
       "18336515                                        False   \n",
       "18336519                                        False   \n",
       "18336523                                        False   \n",
       "18336525                                        False   \n",
       "18336526                                        False   \n",
       "\n",
       "          race_ethnicity_combined_Black, Non-Hispanic  \\\n",
       "6                                               False   \n",
       "11                                              False   \n",
       "30                                              False   \n",
       "36                                              False   \n",
       "40                                              False   \n",
       "...                                               ...   \n",
       "18336515                                        False   \n",
       "18336519                                        False   \n",
       "18336523                                        False   \n",
       "18336525                                        False   \n",
       "18336526                                        False   \n",
       "\n",
       "          race_ethnicity_combined_Hispanic/Latino  \\\n",
       "6                                            True   \n",
       "11                                           True   \n",
       "30                                           True   \n",
       "36                                           True   \n",
       "40                                           True   \n",
       "...                                           ...   \n",
       "18336515                                     True   \n",
       "18336519                                     True   \n",
       "18336523                                     True   \n",
       "18336525                                     True   \n",
       "18336526                                     True   \n",
       "\n",
       "          race_ethnicity_combined_Multiple/Other, Non-Hispanic  \\\n",
       "6                                                     False      \n",
       "11                                                    False      \n",
       "30                                                    False      \n",
       "36                                                    False      \n",
       "40                                                    False      \n",
       "...                                                     ...      \n",
       "18336515                                              False      \n",
       "18336519                                              False      \n",
       "18336523                                              False      \n",
       "18336525                                              False      \n",
       "18336526                                              False      \n",
       "\n",
       "          race_ethnicity_combined_Native Hawaiian/Other Pacific Islander, Non-Hispanic  \\\n",
       "6                                                     False                              \n",
       "11                                                    False                              \n",
       "30                                                    False                              \n",
       "36                                                    False                              \n",
       "40                                                    False                              \n",
       "...                                                     ...                              \n",
       "18336515                                              False                              \n",
       "18336519                                              False                              \n",
       "18336523                                              False                              \n",
       "18336525                                              False                              \n",
       "18336526                                              False                              \n",
       "\n",
       "          race_ethnicity_combined_White, Non-Hispanic  hosp_yn_Yes  \\\n",
       "6                                               False         True   \n",
       "11                                              False         True   \n",
       "30                                              False         True   \n",
       "36                                              False         True   \n",
       "40                                              False         True   \n",
       "...                                               ...          ...   \n",
       "18336515                                        False        False   \n",
       "18336519                                        False        False   \n",
       "18336523                                        False        False   \n",
       "18336525                                        False        False   \n",
       "18336526                                        False        False   \n",
       "\n",
       "          icu_yn_Yes  death_yn_Yes  medcond_yn_Yes  \n",
       "6              False         False           False  \n",
       "11             False         False            True  \n",
       "30             False         False            True  \n",
       "36             False         False            True  \n",
       "40             False         False            True  \n",
       "...              ...           ...             ...  \n",
       "18336515       False         False           False  \n",
       "18336519       False         False           False  \n",
       "18336523       False         False           False  \n",
       "18336525       False         False           False  \n",
       "18336526       False         False           False  \n",
       "\n",
       "[730187 rows x 25 columns]"
      ]
     },
     "execution_count": 32,
     "metadata": {},
     "output_type": "execute_result"
    }
   ],
   "source": [
    "df"
   ]
  },
  {
   "cell_type": "markdown",
   "id": "3353d6ff",
   "metadata": {},
   "source": [
    "The table displayed in the output consists of processed and encoded features ready for machine-learning model development.\n",
    "\n",
    "Each row represents a de-identified patient record from the CDC dataset, and each column represents a feature derived from the original dataset's categorical variables. Each column now represents a category of the original feature, where a value of True (1) indicates the presence of that category, and False (0) indicates its absence.\n",
    "\n",
    "Time-related columns (cdc_case_earliest_dt, cdc_report_dt, pos_spec_dt, onset_dt) and redundant negative indicators for binary outcomes (e.g., hosp_yn_No, icu_yn_No, death_yn_No, medcond_yn_No) have been removed to focus on relevant predictors for the mortality outcome.\n",
    "\n",
    "The resulting dataset has been simplified to 25 columns, each indicating either a status (confirmed/probable case), demographic information (sex, age group, race/ethnicity), or a health-related condition (hospitalization, ICU admission, death, existing medical conditions).\n",
    "\n",
    "This simplification aims to reduce the complexity of the model and focus on variables directly relevant to predicting outcomes."
   ]
  },
  {
   "cell_type": "markdown",
   "id": "61ac29d1-50c8-4cd7-93c5-a6802c8654d6",
   "metadata": {},
   "source": [
    "## Exploratory Data Analysis (EDA)\n",
    "\n",
    "### Imbalanced class label distribution"
   ]
  },
  {
   "cell_type": "code",
   "execution_count": 33,
   "id": "f74d1cab-9b42-4e08-aadb-abb317b31202",
   "metadata": {
    "tags": []
   },
   "outputs": [
    {
     "name": "stdout",
     "output_type": "stream",
     "text": [
      "death_yn_Yes\n",
      "False    701401\n",
      "True      28786\n",
      "Name: count, dtype: int64\n",
      "death_yn_Yes\n",
      "False    0.960577\n",
      "True     0.039423\n",
      "Name: count, dtype: float64\n"
     ]
    },
    {
     "data": {
      "image/png": "[encoded data removed]",
      "text/plain": [
       "<Figure size 640x480 with 1 Axes>"
      ]
     },
     "metadata": {},
     "output_type": "display_data"
    }
   ],
   "source": [
    "label_counts = df['death_yn_Yes'].value_counts() # death_yn_yes chose as ground truth label\n",
    "print(label_counts)\n",
    "\n",
    "label_proportions = label_counts / len(df)\n",
    "print(label_proportions)\n",
    "\n",
    "\n",
    "sns.countplot(x=df['death_yn_Yes'])\n",
    "plt.title('Label Distribution')\n",
    "plt.show()"
   ]
  },
  {
   "cell_type": "markdown",
   "id": "acaa0b5f",
   "metadata": {},
   "source": [
    "The bar chart illustrates the label distribution for the death_yn_Yes feature in your dataset. It shows a significant class imbalance with the majority of cases labeled as 'False' (indicating survival) and a much smaller number labeled as 'True' (indicating death). "
   ]
  },
  {
   "cell_type": "markdown",
   "id": "570a5a53-a36a-43b5-b2b7-97db73e8ff48",
   "metadata": {},
   "source": [
    "## Model Development and Evaluation"
   ]
  },
  {
   "cell_type": "markdown",
   "id": "d7f468eb-4d7b-4e8c-adaf-cca1a0026bd2",
   "metadata": {},
   "source": [
    "### 1. Logistic Regression Model"
   ]
  },
  {
   "cell_type": "code",
   "execution_count": 34,
   "id": "f1d00abd-f998-448d-94ec-1ec910c84bc9",
   "metadata": {
    "tags": []
   },
   "outputs": [],
   "source": [
    "features = df.drop('death_yn_Yes', axis=1) # death_yn_yes chose as ground truth label\n",
    "labels = df['death_yn_Yes']\n",
    "features_tensor = torch.tensor(features.values, dtype=torch.float32)\n",
    "labels_tensor = torch.tensor(labels.values, dtype=torch.float32)\n",
    "\n",
    "X = features_tensor.numpy()\n",
    "y = labels_tensor.numpy()\n",
    "\n",
    "X_temp, X_test, y_temp, y_test = train_test_split(X, y, test_size=0.1, random_state=42)\n",
    "\n",
    "X_train, X_val, y_train, y_val = train_test_split(X_temp, y_temp, test_size=1/9, random_state=42)  # making the split 8:1:1\n",
    "\n",
    "X_train_tensor = torch.tensor(X_train, dtype=torch.float32)\n",
    "y_train_tensor = torch.tensor(y_train, dtype=torch.float32)\n",
    "X_val_tensor = torch.tensor(X_val, dtype=torch.float32)\n",
    "y_val_tensor = torch.tensor(y_val, dtype=torch.float32)\n",
    "X_test_tensor = torch.tensor(X_test, dtype=torch.float32)\n",
    "y_test_tensor = torch.tensor(y_test, dtype=torch.float32)"
   ]
  },
  {
   "cell_type": "code",
   "execution_count": 35,
   "id": "d139a502-1ef1-4518-97d4-878b4d36703f",
   "metadata": {
    "tags": []
   },
   "outputs": [],
   "source": [
    "train_dataset = TensorDataset(X_train_tensor, y_train_tensor)\n",
    "val_dataset = TensorDataset(X_val_tensor, y_val_tensor)\n",
    "test_dataset = TensorDataset(X_test_tensor, y_test_tensor)\n",
    "\n",
    "batch_size = 128  \n",
    "\n",
    "train_loader = DataLoader(dataset=train_dataset, batch_size=batch_size, shuffle=True)\n",
    "val_loader = DataLoader(dataset=val_dataset, batch_size=batch_size, shuffle=False)\n",
    "test_loader = DataLoader(dataset=test_dataset, batch_size=batch_size, shuffle=False)"
   ]
  },
  {
   "cell_type": "markdown",
   "id": "246aeef7-22ec-47c4-81ee-333262942e87",
   "metadata": {},
   "source": [
    "#### Model Architecture"
   ]
  },
  {
   "cell_type": "code",
   "execution_count": 8,
   "id": "904d5d21-e9bb-4076-b88a-9a143bd0d517",
   "metadata": {
    "tags": []
   },
   "outputs": [],
   "source": [
    "class LogisticRegressionModel(nn.Module):\n",
    "    def __init__(self, input_size):\n",
    "        super(LogisticRegressionModel, self).__init__()\n",
    "        self.linear = nn.Linear(input_size, 1)\n",
    "\n",
    "    def forward(self, x):\n",
    "        logits = self.linear(x)\n",
    "        probabilities = torch.sigmoid(logits) # Output a probability\n",
    "        return probabilities"
   ]
  },
  {
   "cell_type": "code",
   "execution_count": 9,
   "id": "2b5748c1-c220-439e-b640-eaeea2ca0eeb",
   "metadata": {
    "tags": []
   },
   "outputs": [],
   "source": [
    "def train_model(model, train_loader, val_loader, loss_function, optimizer, num_epochs=10):\n",
    "    for epoch in range(num_epochs):\n",
    "        model.train()  \n",
    "        running_loss = 0.0\n",
    "        \n",
    "        for batch_features, batch_labels in train_loader:\n",
    "            batch_features = batch_features.to(device)\n",
    "            batch_labels = batch_labels.to(device)\n",
    "            optimizer.zero_grad()  \n",
    "            outputs = model(batch_features) \n",
    "            loss = loss_function(outputs.squeeze(), batch_labels.float())  \n",
    "            loss.backward()  \n",
    "            optimizer.step()  \n",
    "            \n",
    "            running_loss += loss.item() * batch_features.size(0)\n",
    "        \n",
    "        epoch_loss = running_loss / len(train_loader.dataset)\n",
    "        \n",
    "        # Evaluation on the validation set\n",
    "        val_accuracy = evaluate_model(model, val_loader)\n",
    "        \n",
    "        print(f'Epoch {epoch+1}/{num_epochs}, Loss: {epoch_loss:.4f}, Validation Accuracy: {val_accuracy:.4f}')\n",
    "    \n",
    "    print(\"Training complete\")\n",
    "\n",
    "\n",
    "def evaluate_model(model, data_loader):\n",
    "    model.eval()  \n",
    "    correct_predictions = 0\n",
    "    total_predictions = 0\n",
    "    \n",
    "    with torch.no_grad():  \n",
    "        for batch_features, batch_labels in data_loader:\n",
    "            batch_features = batch_features.to(device)\n",
    "            batch_labels = batch_labels.to(device)\n",
    "            outputs = model(batch_features) \n",
    "            predicted = torch.round(outputs.squeeze())\n",
    "            correct_predictions += (predicted == batch_labels).sum().item()\n",
    "            total_predictions += batch_labels.size(0)\n",
    "    \n",
    "    accuracy = correct_predictions / total_predictions\n",
    "    return accuracy"
   ]
  },
  {
   "cell_type": "markdown",
   "id": "69a5c125-14f0-44e4-981d-dc19bc6ba6e0",
   "metadata": {},
   "source": [
    "#### Model Training"
   ]
  },
  {
   "cell_type": "code",
   "execution_count": 10,
   "id": "772b63a4-c12d-42f5-91d7-adf993bdf6e4",
   "metadata": {
    "tags": []
   },
   "outputs": [
    {
     "name": "stdout",
     "output_type": "stream",
     "text": [
      "Using GPU: NVIDIA GeForce RTX 4080\n",
      "Epoch 1/10, Loss: 0.0869, Validation Accuracy: 0.9668\n",
      "Epoch 2/10, Loss: 0.0817, Validation Accuracy: 0.9663\n",
      "Epoch 3/10, Loss: 0.0818, Validation Accuracy: 0.9667\n",
      "Epoch 4/10, Loss: 0.0817, Validation Accuracy: 0.9664\n",
      "Epoch 5/10, Loss: 0.0818, Validation Accuracy: 0.9668\n",
      "Epoch 6/10, Loss: 0.0817, Validation Accuracy: 0.9665\n",
      "Epoch 7/10, Loss: 0.0818, Validation Accuracy: 0.9666\n",
      "Epoch 8/10, Loss: 0.0817, Validation Accuracy: 0.9667\n",
      "Epoch 9/10, Loss: 0.0817, Validation Accuracy: 0.9668\n",
      "Epoch 10/10, Loss: 0.0817, Validation Accuracy: 0.9667\n",
      "Training complete\n",
      "Test Accuracy: 0.9675\n"
     ]
    }
   ],
   "source": [
    "# Check if CUDA is available\n",
    "if torch.cuda.is_available():\n",
    "    device = torch.device(\"cuda\")\n",
    "    print(\"Using GPU:\", torch.cuda.get_device_name(0))\n",
    "else:\n",
    "    device = torch.device(\"cpu\")\n",
    "    print(\"CUDA is not available. Using CPU instead.\")\n",
    "    \n",
    "# Hyperparameters    \n",
    "input_size = 24\n",
    "model = LogisticRegressionModel(input_size)\n",
    "model = model.to(device)\n",
    "\n",
    "loss_function = nn.BCELoss()\n",
    "optimizer = torch.optim.Adam(model.parameters(), lr=0.01)\n",
    "\n",
    "num_epochs = 100\n",
    "\n",
    "train_model(model, train_loader, val_loader, loss_function, optimizer, num_epochs=10)\n",
    "\n",
    "test_accuracy = evaluate_model(model, test_loader)\n",
    "print(f'Test Accuracy: {test_accuracy:.4f}')"
   ]
  },
  {
   "cell_type": "markdown",
   "id": "c3e6d36c-d0bc-458e-9748-b35378ebc585",
   "metadata": {},
   "source": [
    "#### Model Evaluation Using Advanced Metrics\n",
    "Since we have observed significant class label imbalance within our dataset, with over 96% belong to class 0 (no death), accuracy may not be good enough to truly reflect how well the model performs. Here we introduce ROC-AUC, precision and recall as additional evaluation metrics.\n",
    "\n",
    "##### ROC-AUC\n",
    "The ROC curve (Receiver Operating Characteristic curve) plots the true positive rate (recall) against the false positive rate at various threshold settings. The area under this curve (AUC) provides a single measure of a model's performance across all classification thresholds. A model that performs perfectly will have an AUC of 1.0, while a model that makes random guesses will have an AUC of 0.5."
   ]
  },
  {
   "cell_type": "code",
   "execution_count": 11,
   "id": "1b4aa976-cbc7-4221-8947-378f27b9387c",
   "metadata": {
    "tags": []
   },
   "outputs": [],
   "source": [
    "def calculate_roc_score(model, test_loader):\n",
    "    all_preds = []\n",
    "    true_labels = []\n",
    "    model.eval()  \n",
    "    with torch.no_grad():  \n",
    "        for inputs, labels in test_loader:\n",
    "            inputs = inputs.to(device)  \n",
    "\n",
    "            outputs = model(inputs)\n",
    "\n",
    "            all_preds.extend(outputs.squeeze().cpu().numpy())\n",
    "            true_labels.extend(labels.cpu().numpy())\n",
    "    auc_roc_score = roc_auc_score(true_labels, all_preds)\n",
    "    print(f\"AUC-ROC Score: {auc_roc_score:.4f}\")"
   ]
  },
  {
   "cell_type": "code",
   "execution_count": 12,
   "id": "8cac333c-6785-43e9-ba9e-3a22856c2696",
   "metadata": {
    "tags": []
   },
   "outputs": [
    {
     "name": "stdout",
     "output_type": "stream",
     "text": [
      "AUC-ROC Score: 0.9654\n"
     ]
    }
   ],
   "source": [
    "calculate_roc_score(model, test_loader)"
   ]
  },
  {
   "cell_type": "markdown",
   "id": "ca5d6b89-4e92-4aed-b35d-879607651664",
   "metadata": {},
   "source": [
    "##### PR-AUC\n",
    "The AUC of the Precision-Recall Curve is typically used to evaluate models on imbalanced datasets where the positive class (the minority class) is of greater interest. A score closer to 1.0 is ideal. Scores closer to 0.5 may not be much better than a random classifier."
   ]
  },
  {
   "cell_type": "code",
   "execution_count": 13,
   "id": "2773538a-7330-436b-b605-84a09c673fa3",
   "metadata": {
    "tags": []
   },
   "outputs": [],
   "source": [
    "def calculate_precision_recall_score(model, test_loader):\n",
    "    all_preds = []\n",
    "    true_labels = []\n",
    "    model.eval()  \n",
    "    with torch.no_grad():  \n",
    "        for inputs, labels in test_loader:\n",
    "            inputs = inputs.to(device)  \n",
    "            \n",
    "            outputs = model(inputs)\n",
    "\n",
    "            probabilities = torch.sigmoid(outputs).squeeze().cpu().numpy()\n",
    "            all_preds.extend(probabilities)\n",
    "            true_labels.extend(labels.cpu().numpy())\n",
    "\n",
    "    precision, recall, _ = precision_recall_curve(true_labels, all_preds)\n",
    "    auc_pr = auc(recall, precision)\n",
    "    print(f\"Precision-Recall AUC: {auc_pr:.4f}\")"
   ]
  },
  {
   "cell_type": "code",
   "execution_count": 14,
   "id": "59954e0f-372c-4ece-a944-a1939c10ed0f",
   "metadata": {
    "tags": []
   },
   "outputs": [
    {
     "name": "stdout",
     "output_type": "stream",
     "text": [
      "Precision-Recall AUC: 0.5341\n"
     ]
    }
   ],
   "source": [
    "calculate_precision_recall_score(model, test_loader)"
   ]
  },
  {
   "cell_type": "markdown",
   "id": "a3bd8450-1bd5-491f-bc86-1998e19af209",
   "metadata": {},
   "source": [
    "#### 1. Customize Loss Function\n",
    "\n",
    "Since our model got a low PR AUC score, suggesting the model's discriminative ability has great room for improvement. We want to try replacing the originally used BCELoss function with a customized loss function, with\n",
    "- weighting mechanism\n",
    "- additional penalty term for misclassifying minority class instances as majority"
   ]
  },
  {
   "cell_type": "code",
   "execution_count": 15,
   "id": "3943418a-c834-412b-9597-5d92ebb16cd3",
   "metadata": {
    "tags": []
   },
   "outputs": [],
   "source": [
    "def calculate_class_weights(labels):\n",
    "    class_counts = torch.bincount(labels.long())\n",
    "    weights = 1. / class_counts.float()\n",
    "    weights = weights / weights.min()\n",
    "    return weights\n",
    "\n",
    "class WeightedBCELoss(torch.nn.Module):\n",
    "    def __init__(self, weights, penalty_factor=2.0):\n",
    "        super(WeightedBCELoss, self).__init__()\n",
    "        self.weights = weights\n",
    "        self.penalty_factor = penalty_factor\n",
    "\n",
    "    def forward(self, outputs, targets):\n",
    "        weights = self.weights.to(outputs.device)\n",
    "        bce_loss = F.binary_cross_entropy_with_logits(outputs, targets, reduction='none')\n",
    "        weighted_loss = bce_loss * weights[targets.long()]\n",
    "        probabilities = torch.sigmoid(outputs)\n",
    "        predicted_classes = probabilities > 0.5 \n",
    "\n",
    "        false_negatives = (predicted_classes == 0) & (targets == 1)\n",
    "\n",
    "        penalties = torch.zeros_like(weighted_loss)\n",
    "        penalties[false_negatives] = weighted_loss[false_negatives] * self.penalty_factor\n",
    "\n",
    "        total_loss = weighted_loss + penalties\n",
    "        return total_loss.mean()"
   ]
  },
  {
   "cell_type": "code",
   "execution_count": 16,
   "id": "43b8e249-b8f1-4ca1-8ed3-6d04a0f1416a",
   "metadata": {
    "tags": []
   },
   "outputs": [
    {
     "name": "stdout",
     "output_type": "stream",
     "text": [
      "Epoch 1/10, Loss: 1.0667, Validation Accuracy: 0.9126\n",
      "Epoch 2/10, Loss: 1.0524, Validation Accuracy: 0.9082\n",
      "Epoch 3/10, Loss: 1.0518, Validation Accuracy: 0.9069\n",
      "Epoch 4/10, Loss: 1.0522, Validation Accuracy: 0.9084\n",
      "Epoch 5/10, Loss: 1.0536, Validation Accuracy: 0.9085\n",
      "Epoch 6/10, Loss: 1.0539, Validation Accuracy: 0.9108\n",
      "Epoch 7/10, Loss: 1.0549, Validation Accuracy: 0.9120\n",
      "Epoch 8/10, Loss: 1.0552, Validation Accuracy: 0.9078\n",
      "Epoch 9/10, Loss: 1.0561, Validation Accuracy: 0.9105\n",
      "Epoch 10/10, Loss: 1.0570, Validation Accuracy: 0.9012\n",
      "Training complete\n",
      "Test Accuracy: 0.9008\n",
      "AUC-ROC Score: 0.9654\n",
      "Precision-Recall AUC: 0.5982\n"
     ]
    }
   ],
   "source": [
    "input_size = 24\n",
    "model = LogisticRegressionModel(input_size)\n",
    "model = model.to(device)\n",
    "\n",
    "class_weights = calculate_class_weights(y_train_tensor)\n",
    "loss_function = WeightedBCELoss(weights=class_weights, penalty_factor=2.0)\n",
    "optimizer = torch.optim.Adam(model.parameters(), lr=0.01)\n",
    "\n",
    "num_epochs = 100\n",
    "\n",
    "train_model(model, train_loader, val_loader, loss_function, optimizer, num_epochs=10)\n",
    "\n",
    "test_accuracy = evaluate_model(model, test_loader)\n",
    "print(f'Test Accuracy: {test_accuracy:.4f}')\n",
    "calculate_roc_score(model, test_loader)\n",
    "calculate_precision_recall_score(model, test_loader)"
   ]
  },
  {
   "cell_type": "markdown",
   "id": "9ca59900-3e32-42fc-94ad-38bfd0df6c4e",
   "metadata": {},
   "source": [
    "#### 2. Balance the class size\n",
    "The second way we tried to mitigate the negative effect of imbalanced class size is to reduce size of majority class. We randomly sampled a portion of class 0 (no death), and concatenate it with class 1. \n",
    "The resulting dataset has a much smaller size."
   ]
  },
  {
   "cell_type": "code",
   "execution_count": 17,
   "id": "56519723-a615-4fdd-8c30-5090c68f4208",
   "metadata": {
    "tags": []
   },
   "outputs": [],
   "source": [
    "false_data = df[df['death_yn_Yes'] == 0]  # Majority class\n",
    "true_data = df[df['death_yn_Yes'] == 1]   # Minority class\n",
    "undersampled_false_data = false_data.sample(n=len(true_data), random_state=42)\n",
    "balanced_df = pd.concat([undersampled_false_data, true_data], ignore_index=True)\n",
    "balanced_df = shuffle(balanced_df, random_state=42)"
   ]
  },
  {
   "cell_type": "code",
   "execution_count": 18,
   "id": "b9d35e57-96d0-46eb-bc47-d80c8f2d2e5a",
   "metadata": {
    "tags": []
   },
   "outputs": [
    {
     "data": {
      "text/html": [
       "<div>\n",
       "<style scoped>\n",
       "    .dataframe tbody tr th:only-of-type {\n",
       "        vertical-align: middle;\n",
       "    }\n",
       "\n",
       "    .dataframe tbody tr th {\n",
       "        vertical-align: top;\n",
       "    }\n",
       "\n",
       "    .dataframe thead th {\n",
       "        text-align: right;\n",
       "    }\n",
       "</style>\n",
       "<table border=\"1\" class=\"dataframe\">\n",
       "  <thead>\n",
       "    <tr style=\"text-align: right;\">\n",
       "      <th></th>\n",
       "      <th>current_status_Laboratory-confirmed case</th>\n",
       "      <th>current_status_Probable Case</th>\n",
       "      <th>sex_Female</th>\n",
       "      <th>sex_Male</th>\n",
       "      <th>sex_Other</th>\n",
       "      <th>age_group_0 - 9 Years</th>\n",
       "      <th>age_group_10 - 19 Years</th>\n",
       "      <th>age_group_20 - 29 Years</th>\n",
       "      <th>age_group_30 - 39 Years</th>\n",
       "      <th>age_group_40 - 49 Years</th>\n",
       "      <th>...</th>\n",
       "      <th>race_ethnicity_combined_Asian, Non-Hispanic</th>\n",
       "      <th>race_ethnicity_combined_Black, Non-Hispanic</th>\n",
       "      <th>race_ethnicity_combined_Hispanic/Latino</th>\n",
       "      <th>race_ethnicity_combined_Multiple/Other, Non-Hispanic</th>\n",
       "      <th>race_ethnicity_combined_Native Hawaiian/Other Pacific Islander, Non-Hispanic</th>\n",
       "      <th>race_ethnicity_combined_White, Non-Hispanic</th>\n",
       "      <th>hosp_yn_Yes</th>\n",
       "      <th>icu_yn_Yes</th>\n",
       "      <th>death_yn_Yes</th>\n",
       "      <th>medcond_yn_Yes</th>\n",
       "    </tr>\n",
       "  </thead>\n",
       "  <tbody>\n",
       "    <tr>\n",
       "      <th>17853</th>\n",
       "      <td>True</td>\n",
       "      <td>False</td>\n",
       "      <td>False</td>\n",
       "      <td>True</td>\n",
       "      <td>False</td>\n",
       "      <td>False</td>\n",
       "      <td>True</td>\n",
       "      <td>False</td>\n",
       "      <td>False</td>\n",
       "      <td>False</td>\n",
       "      <td>...</td>\n",
       "      <td>False</td>\n",
       "      <td>False</td>\n",
       "      <td>False</td>\n",
       "      <td>False</td>\n",
       "      <td>False</td>\n",
       "      <td>True</td>\n",
       "      <td>False</td>\n",
       "      <td>False</td>\n",
       "      <td>False</td>\n",
       "      <td>True</td>\n",
       "    </tr>\n",
       "    <tr>\n",
       "      <th>44490</th>\n",
       "      <td>True</td>\n",
       "      <td>False</td>\n",
       "      <td>False</td>\n",
       "      <td>True</td>\n",
       "      <td>False</td>\n",
       "      <td>False</td>\n",
       "      <td>False</td>\n",
       "      <td>False</td>\n",
       "      <td>False</td>\n",
       "      <td>False</td>\n",
       "      <td>...</td>\n",
       "      <td>False</td>\n",
       "      <td>False</td>\n",
       "      <td>False</td>\n",
       "      <td>False</td>\n",
       "      <td>False</td>\n",
       "      <td>True</td>\n",
       "      <td>True</td>\n",
       "      <td>True</td>\n",
       "      <td>True</td>\n",
       "      <td>False</td>\n",
       "    </tr>\n",
       "    <tr>\n",
       "      <th>37735</th>\n",
       "      <td>True</td>\n",
       "      <td>False</td>\n",
       "      <td>True</td>\n",
       "      <td>False</td>\n",
       "      <td>False</td>\n",
       "      <td>False</td>\n",
       "      <td>False</td>\n",
       "      <td>False</td>\n",
       "      <td>False</td>\n",
       "      <td>False</td>\n",
       "      <td>...</td>\n",
       "      <td>False</td>\n",
       "      <td>False</td>\n",
       "      <td>False</td>\n",
       "      <td>False</td>\n",
       "      <td>False</td>\n",
       "      <td>True</td>\n",
       "      <td>True</td>\n",
       "      <td>True</td>\n",
       "      <td>True</td>\n",
       "      <td>True</td>\n",
       "    </tr>\n",
       "    <tr>\n",
       "      <th>273</th>\n",
       "      <td>False</td>\n",
       "      <td>True</td>\n",
       "      <td>False</td>\n",
       "      <td>True</td>\n",
       "      <td>False</td>\n",
       "      <td>False</td>\n",
       "      <td>True</td>\n",
       "      <td>False</td>\n",
       "      <td>False</td>\n",
       "      <td>False</td>\n",
       "      <td>...</td>\n",
       "      <td>False</td>\n",
       "      <td>False</td>\n",
       "      <td>False</td>\n",
       "      <td>False</td>\n",
       "      <td>False</td>\n",
       "      <td>True</td>\n",
       "      <td>False</td>\n",
       "      <td>False</td>\n",
       "      <td>False</td>\n",
       "      <td>False</td>\n",
       "    </tr>\n",
       "    <tr>\n",
       "      <th>15598</th>\n",
       "      <td>True</td>\n",
       "      <td>False</td>\n",
       "      <td>True</td>\n",
       "      <td>False</td>\n",
       "      <td>False</td>\n",
       "      <td>True</td>\n",
       "      <td>False</td>\n",
       "      <td>False</td>\n",
       "      <td>False</td>\n",
       "      <td>False</td>\n",
       "      <td>...</td>\n",
       "      <td>False</td>\n",
       "      <td>True</td>\n",
       "      <td>False</td>\n",
       "      <td>False</td>\n",
       "      <td>False</td>\n",
       "      <td>False</td>\n",
       "      <td>False</td>\n",
       "      <td>False</td>\n",
       "      <td>False</td>\n",
       "      <td>False</td>\n",
       "    </tr>\n",
       "    <tr>\n",
       "      <th>...</th>\n",
       "      <td>...</td>\n",
       "      <td>...</td>\n",
       "      <td>...</td>\n",
       "      <td>...</td>\n",
       "      <td>...</td>\n",
       "      <td>...</td>\n",
       "      <td>...</td>\n",
       "      <td>...</td>\n",
       "      <td>...</td>\n",
       "      <td>...</td>\n",
       "      <td>...</td>\n",
       "      <td>...</td>\n",
       "      <td>...</td>\n",
       "      <td>...</td>\n",
       "      <td>...</td>\n",
       "      <td>...</td>\n",
       "      <td>...</td>\n",
       "      <td>...</td>\n",
       "      <td>...</td>\n",
       "      <td>...</td>\n",
       "      <td>...</td>\n",
       "    </tr>\n",
       "    <tr>\n",
       "      <th>54343</th>\n",
       "      <td>False</td>\n",
       "      <td>True</td>\n",
       "      <td>False</td>\n",
       "      <td>True</td>\n",
       "      <td>False</td>\n",
       "      <td>False</td>\n",
       "      <td>False</td>\n",
       "      <td>False</td>\n",
       "      <td>False</td>\n",
       "      <td>False</td>\n",
       "      <td>...</td>\n",
       "      <td>False</td>\n",
       "      <td>False</td>\n",
       "      <td>False</td>\n",
       "      <td>False</td>\n",
       "      <td>False</td>\n",
       "      <td>True</td>\n",
       "      <td>True</td>\n",
       "      <td>True</td>\n",
       "      <td>True</td>\n",
       "      <td>True</td>\n",
       "    </tr>\n",
       "    <tr>\n",
       "      <th>38158</th>\n",
       "      <td>True</td>\n",
       "      <td>False</td>\n",
       "      <td>False</td>\n",
       "      <td>True</td>\n",
       "      <td>False</td>\n",
       "      <td>False</td>\n",
       "      <td>False</td>\n",
       "      <td>False</td>\n",
       "      <td>True</td>\n",
       "      <td>False</td>\n",
       "      <td>...</td>\n",
       "      <td>False</td>\n",
       "      <td>True</td>\n",
       "      <td>False</td>\n",
       "      <td>False</td>\n",
       "      <td>False</td>\n",
       "      <td>False</td>\n",
       "      <td>True</td>\n",
       "      <td>True</td>\n",
       "      <td>True</td>\n",
       "      <td>True</td>\n",
       "    </tr>\n",
       "    <tr>\n",
       "      <th>860</th>\n",
       "      <td>True</td>\n",
       "      <td>False</td>\n",
       "      <td>False</td>\n",
       "      <td>True</td>\n",
       "      <td>False</td>\n",
       "      <td>False</td>\n",
       "      <td>False</td>\n",
       "      <td>False</td>\n",
       "      <td>False</td>\n",
       "      <td>True</td>\n",
       "      <td>...</td>\n",
       "      <td>False</td>\n",
       "      <td>False</td>\n",
       "      <td>False</td>\n",
       "      <td>False</td>\n",
       "      <td>False</td>\n",
       "      <td>True</td>\n",
       "      <td>False</td>\n",
       "      <td>False</td>\n",
       "      <td>False</td>\n",
       "      <td>True</td>\n",
       "    </tr>\n",
       "    <tr>\n",
       "      <th>15795</th>\n",
       "      <td>True</td>\n",
       "      <td>False</td>\n",
       "      <td>False</td>\n",
       "      <td>True</td>\n",
       "      <td>False</td>\n",
       "      <td>False</td>\n",
       "      <td>False</td>\n",
       "      <td>False</td>\n",
       "      <td>False</td>\n",
       "      <td>False</td>\n",
       "      <td>...</td>\n",
       "      <td>False</td>\n",
       "      <td>False</td>\n",
       "      <td>False</td>\n",
       "      <td>False</td>\n",
       "      <td>False</td>\n",
       "      <td>True</td>\n",
       "      <td>True</td>\n",
       "      <td>True</td>\n",
       "      <td>False</td>\n",
       "      <td>False</td>\n",
       "    </tr>\n",
       "    <tr>\n",
       "      <th>56422</th>\n",
       "      <td>True</td>\n",
       "      <td>False</td>\n",
       "      <td>False</td>\n",
       "      <td>True</td>\n",
       "      <td>False</td>\n",
       "      <td>False</td>\n",
       "      <td>False</td>\n",
       "      <td>False</td>\n",
       "      <td>False</td>\n",
       "      <td>False</td>\n",
       "      <td>...</td>\n",
       "      <td>False</td>\n",
       "      <td>False</td>\n",
       "      <td>False</td>\n",
       "      <td>False</td>\n",
       "      <td>False</td>\n",
       "      <td>True</td>\n",
       "      <td>True</td>\n",
       "      <td>True</td>\n",
       "      <td>True</td>\n",
       "      <td>True</td>\n",
       "    </tr>\n",
       "  </tbody>\n",
       "</table>\n",
       "<p>57572 rows × 25 columns</p>\n",
       "</div>"
      ],
      "text/plain": [
       "       current_status_Laboratory-confirmed case  current_status_Probable Case  \\\n",
       "17853                                      True                         False   \n",
       "44490                                      True                         False   \n",
       "37735                                      True                         False   \n",
       "273                                       False                          True   \n",
       "15598                                      True                         False   \n",
       "...                                         ...                           ...   \n",
       "54343                                     False                          True   \n",
       "38158                                      True                         False   \n",
       "860                                        True                         False   \n",
       "15795                                      True                         False   \n",
       "56422                                      True                         False   \n",
       "\n",
       "       sex_Female  sex_Male  sex_Other  age_group_0 - 9 Years  \\\n",
       "17853       False      True      False                  False   \n",
       "44490       False      True      False                  False   \n",
       "37735        True     False      False                  False   \n",
       "273         False      True      False                  False   \n",
       "15598        True     False      False                   True   \n",
       "...           ...       ...        ...                    ...   \n",
       "54343       False      True      False                  False   \n",
       "38158       False      True      False                  False   \n",
       "860         False      True      False                  False   \n",
       "15795       False      True      False                  False   \n",
       "56422       False      True      False                  False   \n",
       "\n",
       "       age_group_10 - 19 Years  age_group_20 - 29 Years  \\\n",
       "17853                     True                    False   \n",
       "44490                    False                    False   \n",
       "37735                    False                    False   \n",
       "273                       True                    False   \n",
       "15598                    False                    False   \n",
       "...                        ...                      ...   \n",
       "54343                    False                    False   \n",
       "38158                    False                    False   \n",
       "860                      False                    False   \n",
       "15795                    False                    False   \n",
       "56422                    False                    False   \n",
       "\n",
       "       age_group_30 - 39 Years  age_group_40 - 49 Years  ...  \\\n",
       "17853                    False                    False  ...   \n",
       "44490                    False                    False  ...   \n",
       "37735                    False                    False  ...   \n",
       "273                      False                    False  ...   \n",
       "15598                    False                    False  ...   \n",
       "...                        ...                      ...  ...   \n",
       "54343                    False                    False  ...   \n",
       "38158                     True                    False  ...   \n",
       "860                      False                     True  ...   \n",
       "15795                    False                    False  ...   \n",
       "56422                    False                    False  ...   \n",
       "\n",
       "       race_ethnicity_combined_Asian, Non-Hispanic  \\\n",
       "17853                                        False   \n",
       "44490                                        False   \n",
       "37735                                        False   \n",
       "273                                          False   \n",
       "15598                                        False   \n",
       "...                                            ...   \n",
       "54343                                        False   \n",
       "38158                                        False   \n",
       "860                                          False   \n",
       "15795                                        False   \n",
       "56422                                        False   \n",
       "\n",
       "       race_ethnicity_combined_Black, Non-Hispanic  \\\n",
       "17853                                        False   \n",
       "44490                                        False   \n",
       "37735                                        False   \n",
       "273                                          False   \n",
       "15598                                         True   \n",
       "...                                            ...   \n",
       "54343                                        False   \n",
       "38158                                         True   \n",
       "860                                          False   \n",
       "15795                                        False   \n",
       "56422                                        False   \n",
       "\n",
       "       race_ethnicity_combined_Hispanic/Latino  \\\n",
       "17853                                    False   \n",
       "44490                                    False   \n",
       "37735                                    False   \n",
       "273                                      False   \n",
       "15598                                    False   \n",
       "...                                        ...   \n",
       "54343                                    False   \n",
       "38158                                    False   \n",
       "860                                      False   \n",
       "15795                                    False   \n",
       "56422                                    False   \n",
       "\n",
       "       race_ethnicity_combined_Multiple/Other, Non-Hispanic  \\\n",
       "17853                                              False      \n",
       "44490                                              False      \n",
       "37735                                              False      \n",
       "273                                                False      \n",
       "15598                                              False      \n",
       "...                                                  ...      \n",
       "54343                                              False      \n",
       "38158                                              False      \n",
       "860                                                False      \n",
       "15795                                              False      \n",
       "56422                                              False      \n",
       "\n",
       "       race_ethnicity_combined_Native Hawaiian/Other Pacific Islander, Non-Hispanic  \\\n",
       "17853                                              False                              \n",
       "44490                                              False                              \n",
       "37735                                              False                              \n",
       "273                                                False                              \n",
       "15598                                              False                              \n",
       "...                                                  ...                              \n",
       "54343                                              False                              \n",
       "38158                                              False                              \n",
       "860                                                False                              \n",
       "15795                                              False                              \n",
       "56422                                              False                              \n",
       "\n",
       "       race_ethnicity_combined_White, Non-Hispanic  hosp_yn_Yes  icu_yn_Yes  \\\n",
       "17853                                         True        False       False   \n",
       "44490                                         True         True        True   \n",
       "37735                                         True         True        True   \n",
       "273                                           True        False       False   \n",
       "15598                                        False        False       False   \n",
       "...                                            ...          ...         ...   \n",
       "54343                                         True         True        True   \n",
       "38158                                        False         True        True   \n",
       "860                                           True        False       False   \n",
       "15795                                         True         True        True   \n",
       "56422                                         True         True        True   \n",
       "\n",
       "       death_yn_Yes  medcond_yn_Yes  \n",
       "17853         False            True  \n",
       "44490          True           False  \n",
       "37735          True            True  \n",
       "273           False           False  \n",
       "15598         False           False  \n",
       "...             ...             ...  \n",
       "54343          True            True  \n",
       "38158          True            True  \n",
       "860           False            True  \n",
       "15795         False           False  \n",
       "56422          True            True  \n",
       "\n",
       "[57572 rows x 25 columns]"
      ]
     },
     "execution_count": 18,
     "metadata": {},
     "output_type": "execute_result"
    }
   ],
   "source": [
    "balanced_df"
   ]
  },
  {
   "cell_type": "code",
   "execution_count": 19,
   "id": "8cd4bd7a-045f-48fc-963e-a8c071617b21",
   "metadata": {
    "tags": []
   },
   "outputs": [],
   "source": [
    "features = balanced_df.drop('death_yn_Yes', axis=1)\n",
    "labels = balanced_df['death_yn_Yes']\n",
    "features_tensor = torch.tensor(features.values, dtype=torch.float32)\n",
    "labels_tensor = torch.tensor(labels.values, dtype=torch.float32)\n",
    "\n",
    "X = features_tensor.numpy()\n",
    "y = labels_tensor.numpy()\n",
    "\n",
    "X_temp, X_test, y_temp, y_test = train_test_split(X, y, test_size=0.1, random_state=42)\n",
    "\n",
    "X_train, X_val, y_train, y_val = train_test_split(X_temp, y_temp, test_size=1/9, random_state=42)  # making the split 8:1:1\n",
    "\n",
    "X_train_tensor = torch.tensor(X_train, dtype=torch.float32)\n",
    "y_train_tensor = torch.tensor(y_train, dtype=torch.float32)\n",
    "X_val_tensor = torch.tensor(X_val, dtype=torch.float32)\n",
    "y_val_tensor = torch.tensor(y_val, dtype=torch.float32)\n",
    "X_test_tensor = torch.tensor(X_test, dtype=torch.float32)\n",
    "y_test_tensor = torch.tensor(y_test, dtype=torch.float32)\n",
    "\n",
    "train_dataset = TensorDataset(X_train_tensor, y_train_tensor)\n",
    "val_dataset = TensorDataset(X_val_tensor, y_val_tensor)\n",
    "test_dataset = TensorDataset(X_test_tensor, y_test_tensor)\n",
    "\n",
    "batch_size = 64 # Use a smaller batch size for smaller dataset\n",
    "\n",
    "train_loader = DataLoader(dataset=train_dataset, batch_size=batch_size, shuffle=True)\n",
    "val_loader = DataLoader(dataset=val_dataset, batch_size=batch_size, shuffle=False)\n",
    "test_loader = DataLoader(dataset=test_dataset, batch_size=batch_size, shuffle=False)"
   ]
  },
  {
   "cell_type": "code",
   "execution_count": 20,
   "id": "5b3a4afd-0f10-471e-a739-14ed4f471d9c",
   "metadata": {
    "tags": []
   },
   "outputs": [
    {
     "name": "stdout",
     "output_type": "stream",
     "text": [
      "Epoch 1/10, Loss: 0.5772, Validation Accuracy: 0.9198\n",
      "Epoch 2/10, Loss: 0.5535, Validation Accuracy: 0.9179\n",
      "Epoch 3/10, Loss: 0.5509, Validation Accuracy: 0.9177\n",
      "Epoch 4/10, Loss: 0.5498, Validation Accuracy: 0.9175\n",
      "Epoch 5/10, Loss: 0.5492, Validation Accuracy: 0.9185\n",
      "Epoch 6/10, Loss: 0.5489, Validation Accuracy: 0.9189\n",
      "Epoch 7/10, Loss: 0.5486, Validation Accuracy: 0.9184\n",
      "Epoch 8/10, Loss: 0.5484, Validation Accuracy: 0.9184\n",
      "Epoch 9/10, Loss: 0.5482, Validation Accuracy: 0.9184\n",
      "Epoch 10/10, Loss: 0.5481, Validation Accuracy: 0.9196\n",
      "Training complete\n",
      "Test Accuracy: 0.9060\n",
      "AUC-ROC Score: 0.9618\n",
      "Precision-Recall AUC: 0.9500\n"
     ]
    }
   ],
   "source": [
    "input_size = 24\n",
    "model = LogisticRegressionModel(input_size)\n",
    "model = model.to(device)\n",
    "\n",
    "class_weights = calculate_class_weights(y_train_tensor)\n",
    "loss_function = WeightedBCELoss(weights=class_weights, penalty_factor=2.0)\n",
    "optimizer = torch.optim.Adam(model.parameters(), lr=0.01)\n",
    "\n",
    "num_epochs = 100\n",
    "\n",
    "train_model(model, train_loader, val_loader, loss_function, optimizer, num_epochs=10)\n",
    "\n",
    "test_accuracy = evaluate_model(model, test_loader)\n",
    "print(f'Test Accuracy: {test_accuracy:.4f}')\n",
    "calculate_roc_score(model, test_loader)\n",
    "calculate_precision_recall_score(model, test_loader)"
   ]
  },
  {
   "cell_type": "markdown",
   "id": "fd1b2617-6ede-4973-96d0-ed9e22eb288f",
   "metadata": {},
   "source": [
    "#### 3. Feature Importance Measurement and Ablation\n"
   ]
  },
  {
   "cell_type": "code",
   "execution_count": 21,
   "id": "a0e022f9-223c-4356-a831-2bcedf518a49",
   "metadata": {
    "tags": []
   },
   "outputs": [
    {
     "data": {
      "image/png": "[encoded data removed]",
      "text/plain": [
       "<Figure size 1200x800 with 1 Axes>"
      ]
     },
     "metadata": {},
     "output_type": "display_data"
    }
   ],
   "source": [
    "feature_names = ['current_status_Laboratory-confirmed case', 'current_status_Probable Case','sex_Female',\n",
    "                 'sex_Male', 'sex_Other', 'age_group_0 - 9 Years', 'age_group_10 - 19 Years', 'age_group_20 - 29 Years',\n",
    "                 'age_group_30 - 39 Years', 'age_group_40 - 49 Years', 'age_group_50 - 59 Years', 'age_group_60 - 69 Years',\n",
    "                 'age_group_70 - 79 Years', 'age_group_80+ Years', 'race_ethnicity_combined_American Indian/Alaska Native, Non-Hispanic',\n",
    "                 'race_ethnicity_combined_Asian, Non-Hispanic', 'race_ethnicity_combined_Black, Non-Hispanic', 'race_ethnicity_combined_Hispanic/Latino',\n",
    "                 'race_ethnicity_combined_Multiple/Other, Non-Hispanic', 'race_ethnicity_combined_Native Hawaiian/Other Pacific Islander, Non-Hispanic',\n",
    "                 'race_ethnicity_combined_White, Non-Hispanic', 'hosp_yn_Yes', 'icu_yn_Yes', 'medcond_yn_Yes']\n",
    "weights = model.linear.weight.data.cpu().numpy().flatten()\n",
    "bias = model.linear.bias.data.cpu().numpy() \n",
    "    \n",
    "plt.figure(figsize=(12, 8))\n",
    "plt.bar(feature_names, weights, color='b')\n",
    "plt.xlabel('Features')\n",
    "plt.ylabel('Weight Magnitude')\n",
    "plt.title('Feature Importance in Logistic Regression Model')\n",
    "plt.xticks(rotation=90)\n",
    "plt.show()"
   ]
  },
  {
   "cell_type": "markdown",
   "id": "814dd8cb-4b9e-417b-bb9e-a8e6c25c8db8",
   "metadata": {},
   "source": [
    "##### Re-train the model with icu condition feature being removed"
   ]
  },
  {
   "cell_type": "code",
   "execution_count": 22,
   "id": "a646713a-0ddc-4fce-863f-5a867c4ffb2a",
   "metadata": {
    "tags": []
   },
   "outputs": [],
   "source": [
    "df = pd.read_pickle(\"./cdcdata.pkl\")\n",
    "columns_to_encode = ['current_status', 'sex', 'age_group', 'race_ethnicity_combined', 'hosp_yn', 'icu_yn', 'death_yn', 'medcond_yn']\n",
    "df_encoded = one_hot_encode_features(df, columns_to_encode)\n",
    "cols_to_drop = ['cdc_case_earliest_dt', 'cdc_report_dt', 'pos_spec_dt', 'onset_dt', 'hosp_yn_No', 'icu_yn_No', 'death_yn_No', 'medcond_yn_No', 'icu_yn_Yes']\n",
    "df_dropped = df_encoded.drop(cols_to_drop, axis=1)\n",
    "df = df_dropped\n",
    "\n",
    "false_data = df[df['death_yn_Yes'] == 0]  # Majority class\n",
    "true_data = df[df['death_yn_Yes'] == 1]   # Minority class\n",
    "undersampled_false_data = false_data.sample(n=len(true_data), random_state=42)\n",
    "balanced_df = pd.concat([undersampled_false_data, true_data], ignore_index=True)\n",
    "balanced_df = shuffle(balanced_df, random_state=42)"
   ]
  },
  {
   "cell_type": "code",
   "execution_count": 23,
   "id": "a32460c7-d88a-4a09-ba95-00ec18f9e57f",
   "metadata": {
    "tags": []
   },
   "outputs": [],
   "source": [
    "features = balanced_df.drop('death_yn_Yes', axis=1)\n",
    "labels = balanced_df['death_yn_Yes']\n",
    "features_tensor = torch.tensor(features.values, dtype=torch.float32)\n",
    "labels_tensor = torch.tensor(labels.values, dtype=torch.float32)\n",
    "\n",
    "X = features_tensor.numpy()\n",
    "y = labels_tensor.numpy()\n",
    "\n",
    "X_temp, X_test, y_temp, y_test = train_test_split(X, y, test_size=0.1, random_state=42)\n",
    "\n",
    "X_train, X_val, y_train, y_val = train_test_split(X_temp, y_temp, test_size=1/9, random_state=42)  # making the split 8:1:1\n",
    "\n",
    "X_train_tensor = torch.tensor(X_train, dtype=torch.float32)\n",
    "y_train_tensor = torch.tensor(y_train, dtype=torch.float32)\n",
    "X_val_tensor = torch.tensor(X_val, dtype=torch.float32)\n",
    "y_val_tensor = torch.tensor(y_val, dtype=torch.float32)\n",
    "X_test_tensor = torch.tensor(X_test, dtype=torch.float32)\n",
    "y_test_tensor = torch.tensor(y_test, dtype=torch.float32)\n",
    "\n",
    "train_dataset = TensorDataset(X_train_tensor, y_train_tensor)\n",
    "val_dataset = TensorDataset(X_val_tensor, y_val_tensor)\n",
    "test_dataset = TensorDataset(X_test_tensor, y_test_tensor)\n",
    "\n",
    "batch_size = 64 # Use a smaller batch size for smaller dataset\n",
    "\n",
    "train_loader = DataLoader(dataset=train_dataset, batch_size=batch_size, shuffle=True)\n",
    "val_loader = DataLoader(dataset=val_dataset, batch_size=batch_size, shuffle=False)\n",
    "test_loader = DataLoader(dataset=test_dataset, batch_size=batch_size, shuffle=False)"
   ]
  },
  {
   "cell_type": "code",
   "execution_count": 24,
   "id": "19ee94cf-7095-4a94-bc9d-6091fa43aea6",
   "metadata": {
    "tags": []
   },
   "outputs": [
    {
     "name": "stdout",
     "output_type": "stream",
     "text": [
      "Epoch 1/10, Loss: 0.5934, Validation Accuracy: 0.9102\n",
      "Epoch 2/10, Loss: 0.5621, Validation Accuracy: 0.9140\n",
      "Epoch 3/10, Loss: 0.5579, Validation Accuracy: 0.9161\n",
      "Epoch 4/10, Loss: 0.5563, Validation Accuracy: 0.9161\n",
      "Epoch 5/10, Loss: 0.5554, Validation Accuracy: 0.9170\n",
      "Epoch 6/10, Loss: 0.5550, Validation Accuracy: 0.9165\n",
      "Epoch 7/10, Loss: 0.5546, Validation Accuracy: 0.9166\n",
      "Epoch 8/10, Loss: 0.5544, Validation Accuracy: 0.9156\n",
      "Epoch 9/10, Loss: 0.5542, Validation Accuracy: 0.9166\n",
      "Epoch 10/10, Loss: 0.5541, Validation Accuracy: 0.9166\n",
      "Training complete\n",
      "Test Accuracy: 0.9038\n",
      "AUC-ROC Score: 0.9478\n",
      "Precision-Recall AUC: 0.9191\n"
     ]
    }
   ],
   "source": [
    "input_size = 23\n",
    "model = LogisticRegressionModel(input_size)\n",
    "model = model.to(device)\n",
    "\n",
    "class_weights = calculate_class_weights(y_train_tensor)\n",
    "loss_function = WeightedBCELoss(weights=class_weights, penalty_factor=2.0)\n",
    "optimizer = torch.optim.Adam(model.parameters(), lr=0.01)\n",
    "\n",
    "num_epochs = 100\n",
    "\n",
    "train_model(model, train_loader, val_loader, loss_function, optimizer, num_epochs=10)\n",
    "\n",
    "test_accuracy = evaluate_model(model, test_loader)\n",
    "print(f'Test Accuracy: {test_accuracy:.4f}')\n",
    "calculate_roc_score(model, test_loader)\n",
    "calculate_precision_recall_score(model, test_loader)"
   ]
  },
  {
   "cell_type": "markdown",
   "id": "2673f001-999a-41e4-b7f8-1b5604625600",
   "metadata": {},
   "source": [
    "### 2. Random Forest Model\n",
    "#### Model Architecture\n",
    "We use pre-defined RandomForest Classifier in [sklearn library](https://scikit-learn.org/stable/modules/generated/sklearn.ensemble.RandomForestClassifier.html).\n"
   ]
  },
  {
   "cell_type": "markdown",
   "id": "b88fff1d-e125-4626-9c14-93ccdeb63554",
   "metadata": {},
   "source": [
    "#### Model Training"
   ]
  },
  {
   "cell_type": "code",
   "execution_count": 42,
   "id": "75efa15e-5958-4e73-af1a-b85563512119",
   "metadata": {
    "tags": []
   },
   "outputs": [
    {
     "name": "stdout",
     "output_type": "stream",
     "text": [
      "Validation Accuracy: 0.9668031608211561\n",
      "Testing Accuracy: 0.967843985811912\n"
     ]
    }
   ],
   "source": [
    "# Initialize the Random Forest model\n",
    "rf_classifier = RandomForestClassifier(n_estimators=100, criterion = 'entropy', random_state=42)\n",
    "\n",
    "# Fit the model on training data\n",
    "rf_classifier.fit(X_train_tensor, y_train_tensor)\n",
    "\n",
    "# Predict on validation data\n",
    "y_pred_val = rf_classifier.predict(X_val_tensor)\n",
    "\n",
    "# Predict on testing data\n",
    "y_pred_test = rf_classifier.predict(X_test_tensor)\n",
    "\n",
    "# Evaluate the model\n",
    "print(\"Validation Accuracy:\", accuracy_score(y_val, y_pred_val))\n",
    "print(\"Testing Accuracy:\", accuracy_score(y_test, y_pred_test))"
   ]
  },
  {
   "cell_type": "markdown",
   "id": "6fd31ca0",
   "metadata": {},
   "source": [
    "Our validation and testing accuracy are quite high which indicates great performance so far when it comes to our validation and testing set. However, we need to anaylze further to study how our model classifies data and how generalizable our model is."
   ]
  },
  {
   "cell_type": "markdown",
   "id": "4be830fa-c838-45d5-bb4a-cea79f816723",
   "metadata": {},
   "source": [
    "#### Model Evaluation using advanced metrics"
   ]
  },
  {
   "cell_type": "code",
   "execution_count": 44,
   "id": "ff71c17c-112f-4e2f-a9e7-1f959476422f",
   "metadata": {
    "tags": []
   },
   "outputs": [],
   "source": [
    "#Function to plot ROC Curve\n",
    "def plot_roc_curve(y_true, y_score):\n",
    "    fpr, tpr, thresholds = roc_curve(y_true, y_score)\n",
    "    roc_auc = auc(fpr, tpr)\n",
    "    print(\"ROC-AUC: \", roc_auc)\n",
    "\n",
    "#Function to plot Precision-Recall Curve\n",
    "def plot_precision_recall_curve(y_true, y_score):\n",
    "    precision, recall, thresholds = precision_recall_curve(y_true, y_score)\n",
    "    average_precision = average_precision_score(y_true, y_score)\n",
    "    print(\"PR-AUC: \", average_precision)\n",
    "    \n",
    "#Function to plot Confusion Matrix\n",
    "def plot_confusion_matrix(y_true, y_pred):\n",
    "    cm = confusion_matrix(y_true, y_pred)\n",
    "    disp = ConfusionMatrixDisplay(confusion_matrix=cm)\n",
    "    disp.plot()\n",
    "    plt.show()"
   ]
  },
  {
   "cell_type": "code",
   "execution_count": 51,
   "id": "c30945f8-0c15-4281-b4a0-46a7d81b0dd7",
   "metadata": {
    "tags": []
   },
   "outputs": [
    {
     "name": "stdout",
     "output_type": "stream",
     "text": [
      "ROC-AUC:  0.9637102475396839\n",
      "PR-AUC:  0.5292559209863967\n"
     ]
    }
   ],
   "source": [
    "y_scores_test = rf_classifier.predict_proba(X_test)[:, 1]\n",
    "\n",
    "#Plot ROC Curve for test set\n",
    "plot_roc_curve(y_test, y_scores_test)\n",
    "\n",
    "#Plot Precision-Recall Curve for test set\n",
    "plot_precision_recall_curve(y_test, y_scores_test)"
   ]
  },
  {
   "cell_type": "markdown",
   "id": "28fdfd41",
   "metadata": {},
   "source": [
    "The Receiver Operating Characteristic Area Under the Curve (ROC-AUC) value of 0.9637 suggests that the model's ability to distinguish between the positive and negative classes is high, with a score close to 1 indicating excellent performance.\n",
    "\n",
    "In this case, a PR-AUC of 0.5293 suggests moderate performance in terms of precision and recall, but it may indicate a need for further investigation, especially if the imbalance between positive and negative classes is significant."
   ]
  },
  {
   "cell_type": "code",
   "execution_count": 56,
   "id": "6f4e9042-b8b2-459c-9cac-14e7b4709b07",
   "metadata": {
    "tags": []
   },
   "outputs": [
    {
     "data": {
      "image/png": "[encoded data removed]",
      "text/plain": [
       "<Figure size 640x480 with 2 Axes>"
      ]
     },
     "metadata": {},
     "output_type": "display_data"
    }
   ],
   "source": [
    "plot_confusion_matrix(y_test, y_pred_test)"
   ]
  },
  {
   "cell_type": "markdown",
   "id": "637a7cf0",
   "metadata": {},
   "source": [
    "- The high number of True Negatives (69377) suggests that the model is performing well at identifying instances of the negative class when they are truly negative.\n",
    "- The relatively low number of False Negatives (810) indicates that the model occasionally misses instances of the positive class when they are truly positive.\n",
    "- The number of True Positives (1294) suggests that the model is reasonably successful at identifying instances of the positive class when they are truly positive.\n",
    "- The number of False Positives (1538) indicates that the model sometimes misclassifies instances of the negative class as positive."
   ]
  },
  {
   "cell_type": "markdown",
   "id": "ad23ae97-16b3-49c6-8c63-70df87246bc3",
   "metadata": {},
   "source": [
    "#### 1. Feature Importance Measurement and Ablation"
   ]
  },
  {
   "cell_type": "code",
   "execution_count": 59,
   "id": "7950ddd9-5497-4797-8494-1b21b057d4cd",
   "metadata": {
    "tags": []
   },
   "outputs": [
    {
     "data": {
      "image/png": "[encoded data removed]",
      "text/plain": [
       "<Figure size 1200x800 with 1 Axes>"
      ]
     },
     "metadata": {},
     "output_type": "display_data"
    }
   ],
   "source": [
    "feature_names = ['current_status_Laboratory-confirmed case', 'current_status_Probable Case','sex_Female',\n",
    "                 'sex_Male', 'sex_Other', 'age_group_0 - 9 Years', 'age_group_10 - 19 Years', 'age_group_20 - 29 Years',\n",
    "                 'age_group_30 - 39 Years', 'age_group_40 - 49 Years', 'age_group_50 - 59 Years', 'age_group_60 - 69 Years',\n",
    "                 'age_group_70 - 79 Years', 'age_group_80+ Years', 'race_ethnicity_combined_American Indian/Alaska Native, Non-Hispanic',\n",
    "                 'race_ethnicity_combined_Asian, Non-Hispanic', 'race_ethnicity_combined_Black, Non-Hispanic', 'race_ethnicity_combined_Hispanic/Latino',\n",
    "                 'race_ethnicity_combined_Multiple/Other, Non-Hispanic', 'race_ethnicity_combined_Native Hawaiian/Other Pacific Islander, Non-Hispanic',\n",
    "                 'race_ethnicity_combined_White, Non-Hispanic', 'hosp_yn_Yes', 'icu_yn_Yes', 'medcond_yn_Yes']\n",
    "#Feature Importance Plot\n",
    "importances = rf_classifier.feature_importances_\n",
    "indices = np.argsort(importances)[::-1]\n",
    "\n",
    "plt.figure(figsize=(12, 8))\n",
    "plt.title(\"Feature Importances\")\n",
    "plt.bar(range(len(importances)), importances[indices], color=\"r\", align=\"center\")\n",
    "plt.xticks(range(len(importances)), [feature_names[i] for i in indices], rotation=90)\n",
    "plt.xlim([-1, len(importances)])\n",
    "plt.tight_layout()\n",
    "plt.show()"
   ]
  },
  {
   "cell_type": "markdown",
   "id": "c49b8368-d36e-45eb-aafe-36015767c2fb",
   "metadata": {},
   "source": [
    "##### Re-train the model without hospitalization & ICU admission status"
   ]
  },
  {
   "cell_type": "code",
   "execution_count": 85,
   "id": "bc992a51-a59d-400a-bf6d-1dd6e3f13b0f",
   "metadata": {
    "tags": []
   },
   "outputs": [],
   "source": [
    "df = pd.read_pickle(\"./cdcdata.pkl\")\n",
    "columns_to_encode = ['current_status', 'sex', 'age_group', 'race_ethnicity_combined', 'hosp_yn', 'icu_yn', 'death_yn', 'medcond_yn']\n",
    "df_encoded = one_hot_encode_features(df, columns_to_encode)\n",
    "cols_to_drop = ['cdc_case_earliest_dt', 'cdc_report_dt', 'pos_spec_dt', 'onset_dt', 'hosp_yn_No', 'icu_yn_No', 'death_yn_No', 'medcond_yn_No', 'hosp_yn_Yes', 'icu_yn_Yes']\n",
    "df_dropped = df_encoded.drop(cols_to_drop, axis=1)\n",
    "df = df_dropped\n",
    "\n",
    "features = df.drop('death_yn_Yes', axis=1)\n",
    "labels = df['death_yn_Yes']\n",
    "features_tensor = torch.tensor(features.values, dtype=torch.float32)\n",
    "labels_tensor = torch.tensor(labels.values, dtype=torch.float32)"
   ]
  },
  {
   "cell_type": "code",
   "execution_count": 86,
   "id": "1793435a-17c0-4d13-8b48-b4dbeffefc1f",
   "metadata": {
    "tags": []
   },
   "outputs": [],
   "source": [
    "X = features_tensor.numpy()\n",
    "y = labels_tensor.numpy()\n",
    "\n",
    "X_temp, X_test, y_temp, y_test = train_test_split(X, y, test_size=0.1, random_state=42)\n",
    "\n",
    "X_train, X_val, y_train, y_val = train_test_split(X_temp, y_temp, test_size=1/9, random_state=42)  # making the split 8:1:1"
   ]
  },
  {
   "cell_type": "code",
   "execution_count": 88,
   "id": "02d7d7c2-32d1-4eab-829c-7809a97d38aa",
   "metadata": {
    "tags": []
   },
   "outputs": [
    {
     "name": "stdout",
     "output_type": "stream",
     "text": [
      "Testing Accuracy: 0.9612703542913488\n",
      "ROC-AUC:  0.894173695609284\n",
      "PR-AUC:  0.2225352466305749\n"
     ]
    },
    {
     "data": {
      "image/png": "[encoded data removed]",
      "text/plain": [
       "<Figure size 640x480 with 2 Axes>"
      ]
     },
     "metadata": {},
     "output_type": "display_data"
    }
   ],
   "source": [
    "rf_classifier = RandomForestClassifier(n_estimators=100, criterion = 'entropy', random_state=42)\n",
    "\n",
    "rf_classifier.fit(X_train, y_train)\n",
    "y_pred_test = rf_classifier.predict(X_test)\n",
    "\n",
    "y_scores_val = rf_classifier.predict_proba(X_val)[:, 1]\n",
    "y_scores_test = rf_classifier.predict_proba(X_test)[:, 1]\n",
    "\n",
    "print(\"Testing Accuracy:\", accuracy_score(y_test, y_pred_test))\n",
    "plot_roc_curve(y_test, y_scores_test)\n",
    "plot_precision_recall_curve(y_test, y_scores_test)\n",
    "plot_confusion_matrix(y_test, y_pred_test)"
   ]
  },
  {
   "cell_type": "markdown",
   "id": "394a8748",
   "metadata": {},
   "source": [
    "Upon re-training the model without hospitalization & ICU admission status, we notice a severe decrease in PR-AUC indicating that we have more performance when it comes to true positive label classifications."
   ]
  },
  {
   "cell_type": "markdown",
   "id": "7924a332-17f6-4314-9fca-ec9a59e802a3",
   "metadata": {},
   "source": [
    "#### 2. Balance the Class Size"
   ]
  },
  {
   "cell_type": "code",
   "execution_count": 74,
   "id": "c9303367-fe92-4531-b482-32d0c3ebf4c4",
   "metadata": {
    "tags": []
   },
   "outputs": [],
   "source": [
    "df = pd.read_pickle(\"./cdcdata.pkl\")\n",
    "columns_to_encode = ['current_status', 'sex', 'age_group', 'race_ethnicity_combined', 'hosp_yn', 'icu_yn', 'death_yn', 'medcond_yn']\n",
    "df_encoded = one_hot_encode_features(df, columns_to_encode)\n",
    "cols_to_drop = ['cdc_case_earliest_dt', 'cdc_report_dt', 'pos_spec_dt', 'onset_dt', 'hosp_yn_No', 'icu_yn_No', 'death_yn_No', 'medcond_yn_No']\n",
    "df_dropped = df_encoded.drop(cols_to_drop, axis=1)\n",
    "df = df_dropped\n",
    "\n",
    "false_data = df[df['death_yn_Yes'] == 0]  # Majority class\n",
    "true_data = df[df['death_yn_Yes'] == 1]   # Minority class\n",
    "undersampled_false_data = false_data.sample(n=len(true_data), random_state=42)\n",
    "balanced_df = pd.concat([undersampled_false_data, true_data], ignore_index=True)\n",
    "balanced_df = shuffle(balanced_df, random_state=42)"
   ]
  },
  {
   "cell_type": "code",
   "execution_count": 76,
   "id": "54bfa648-09bd-4992-bc2f-c0d693638526",
   "metadata": {
    "tags": []
   },
   "outputs": [],
   "source": [
    "features = balanced_df.drop('death_yn_Yes', axis=1)\n",
    "labels = balanced_df['death_yn_Yes']\n",
    "features_tensor = torch.tensor(features.values, dtype=torch.float32)\n",
    "labels_tensor = torch.tensor(labels.values, dtype=torch.float32)\n",
    "\n",
    "X = features_tensor.numpy()\n",
    "y = labels_tensor.numpy()\n",
    "\n",
    "X_temp, X_test, y_temp, y_test = train_test_split(X, y, test_size=0.1, random_state=42)\n",
    "X_train, X_val, y_train, y_val = train_test_split(X_temp, y_temp, test_size=1/9, random_state=42)"
   ]
  },
  {
   "cell_type": "code",
   "execution_count": 80,
   "id": "55ddfdfc-7943-441c-9ae9-86608e2bbde6",
   "metadata": {
    "tags": []
   },
   "outputs": [
    {
     "name": "stdout",
     "output_type": "stream",
     "text": [
      "Testing Accuracy: 0.9098645362973254\n",
      "ROC-AUC:  0.961505157948599\n",
      "PR-AUC:  0.9440476509537509\n"
     ]
    },
    {
     "data": {
      "image/png": "[encoded data removed]",
      "text/plain": [
       "<Figure size 640x480 with 2 Axes>"
      ]
     },
     "metadata": {},
     "output_type": "display_data"
    }
   ],
   "source": [
    "#Initialize the RF model\n",
    "rf_classifier = RandomForestClassifier(n_estimators=100, criterion = 'entropy', random_state=42)\n",
    "\n",
    "#Fit the model on training data\n",
    "rf_classifier.fit(X_train, y_train)\n",
    "\n",
    "#Predict on testing data\n",
    "y_pred_test = rf_classifier.predict(X_test)\n",
    "\n",
    "#Predict probabilities for the test and val set\n",
    "y_scores_val = rf_classifier.predict_proba(X_val)[:, 1]\n",
    "y_scores_test = rf_classifier.predict_proba(X_test)[:, 1]\n",
    "\n",
    "print(\"Testing Accuracy:\", accuracy_score(y_test, y_pred_test))\n",
    "plot_roc_curve(y_test, y_scores_test)\n",
    "plot_precision_recall_curve(y_test, y_scores_test)\n",
    "plot_confusion_matrix(y_test, y_pred_test)"
   ]
  },
  {
   "cell_type": "markdown",
   "id": "f60ef490",
   "metadata": {},
   "source": [
    "Here, we see that our testing accuracy had decreased ever-so-slightly (about 5%) but our ROC_AUC and PR-AUC has increased significantly! Our classifications are now not pre-dominantly true negatives and are better distributed. Despite our decrease in testing accuracy, our model is performing much better than before."
   ]
  },
  {
   "cell_type": "markdown",
   "id": "b8343816-aee7-4d20-af7d-beb08c55fa3f",
   "metadata": {},
   "source": [
    "#### 3. Model Tuning"
   ]
  },
  {
   "cell_type": "code",
   "execution_count": 83,
   "id": "ca745e04-99d5-4cef-8691-0bbe91b2c54a",
   "metadata": {
    "tags": []
   },
   "outputs": [
    {
     "name": "stdout",
     "output_type": "stream",
     "text": [
      "Fitting 3 folds for each of 100 candidates, totalling 300 fits\n",
      "Best hyperparameters:\n",
      " {'n_estimators': 500, 'min_samples_split': 2, 'min_samples_leaf': 4, 'max_depth': 40, 'class_weight': 'balanced_subsample', 'bootstrap': True}\n"
     ]
    }
   ],
   "source": [
    "# Define hyperparameters and their respective ranges to consider for the random search\n",
    "param_distributions = {\n",
    "    'n_estimators': [100, 200, 300, 400, 500],\n",
    "    'max_depth': [10, 20, 30, 40, 50, None],\n",
    "    'min_samples_split': [2, 5, 10],\n",
    "    'min_samples_leaf': [1, 2, 4],\n",
    "    'bootstrap': [True, False],\n",
    "    'class_weight': ['balanced', 'balanced_subsample']}\n",
    "\n",
    "# Initialize the base model\n",
    "rf_classifier = RandomForestClassifier(random_state=42)\n",
    "\n",
    "# Initialize RandomizedSearchCV with the desired number of iterations and cross-validation folds\n",
    "random_search = RandomizedSearchCV(\n",
    "    estimator=rf_classifier,\n",
    "    param_distributions=param_distributions,\n",
    "    n_iter=100,\n",
    "    cv=3,\n",
    "    verbose=2,\n",
    "    random_state=42,\n",
    "    n_jobs=-1,\n",
    "    scoring='f1_weighted'\n",
    ")\n",
    "\n",
    "# Perform the RandomizedSearchCV to find the best model\n",
    "best_rf = random_search.fit(X_train, y_train)\n",
    "\n",
    "# Best hyperparameters from RandomizedSearchCV\n",
    "print(\"Best hyperparameters:\\n\", best_rf.best_params_)"
   ]
  },
  {
   "cell_type": "code",
   "execution_count": 84,
   "id": "533e88ea-80dc-4627-bb47-cd61b2921713",
   "metadata": {
    "tags": []
   },
   "outputs": [
    {
     "name": "stdout",
     "output_type": "stream",
     "text": [
      "Testing Accuracy: 0.9100382077110107\n",
      "ROC-AUC:  0.9628402628936645\n",
      "PR-AUC:  0.9499563028995839\n"
     ]
    },
    {
     "data": {
      "image/png": "[encoded data removed]",
      "text/plain": [
       "<Figure size 640x480 with 2 Axes>"
      ]
     },
     "metadata": {},
     "output_type": "display_data"
    }
   ],
   "source": [
    "best_rf_model = best_rf.best_estimator_\n",
    "y_pred_test = best_rf_model.predict(X_test)\n",
    "\n",
    "y_scores_val = best_rf_model.predict_proba(X_val)[:, 1]\n",
    "y_scores_test = best_rf_model.predict_proba(X_test)[:, 1]\n",
    "\n",
    "print(\"Testing Accuracy:\", accuracy_score(y_test, y_pred_test))\n",
    "plot_roc_curve(y_test, y_scores_test)\n",
    "plot_precision_recall_curve(y_test, y_scores_test)\n",
    "plot_confusion_matrix(y_test, y_pred_test)"
   ]
  },
  {
   "cell_type": "markdown",
   "id": "1dd7715a",
   "metadata": {},
   "source": [
    "Here, we hyperparameter tune our model from before as we saw great performance in the prior section. With the hyperparameter optimization, we observe improved values for testing accuracy, ROC-AUC, and PR-AUC. Overall, this model is the best among our Random Forests."
   ]
  },
  {
   "cell_type": "markdown",
   "id": "ba921437-254f-46b5-81fa-bd874807567d",
   "metadata": {},
   "source": [
    "## Insights and Recommendations"
   ]
  },
  {
   "cell_type": "markdown",
   "id": "b8eafdae",
   "metadata": {},
   "source": [
    "### Logistic Regression"
   ]
  },
  {
   "cell_type": "code",
   "execution_count": 95,
   "id": "fe6c6d8c-68e5-442b-86cf-e47c4d3d2c4f",
   "metadata": {
    "tags": []
   },
   "outputs": [],
   "source": [
    "model_names = ['Naive LR', 'LR with customized loss function']\n",
    "accuracies = [0.9676, 0.9097]\n",
    "roc_scores = [0.9654, 0.9656]\n",
    "pr_scores = [0.5348, 0.5970 ]\n",
    "\n",
    "# Create a DataFrame\n",
    "results_df = pd.DataFrame({\n",
    "    'Model': model_names,\n",
    "    'Accuracy': accuracies,\n",
    "    'ROC AUC': roc_scores,\n",
    "    'PR AUC': pr_scores\n",
    "})"
   ]
  },
  {
   "cell_type": "code",
   "execution_count": 94,
   "id": "cd723f48-f6a8-411d-8955-b78d51e2976f",
   "metadata": {
    "tags": []
   },
   "outputs": [
    {
     "data": {
      "text/html": [
       "<div>\n",
       "<style scoped>\n",
       "    .dataframe tbody tr th:only-of-type {\n",
       "        vertical-align: middle;\n",
       "    }\n",
       "\n",
       "    .dataframe tbody tr th {\n",
       "        vertical-align: top;\n",
       "    }\n",
       "\n",
       "    .dataframe thead th {\n",
       "        text-align: right;\n",
       "    }\n",
       "</style>\n",
       "<table border=\"1\" class=\"dataframe\">\n",
       "  <thead>\n",
       "    <tr style=\"text-align: right;\">\n",
       "      <th></th>\n",
       "      <th>Model</th>\n",
       "      <th>Accuracy</th>\n",
       "      <th>ROC AUC</th>\n",
       "      <th>PR AUC</th>\n",
       "    </tr>\n",
       "  </thead>\n",
       "  <tbody>\n",
       "    <tr>\n",
       "      <th>0</th>\n",
       "      <td>Naive LR</td>\n",
       "      <td>0.9676</td>\n",
       "      <td>0.9654</td>\n",
       "      <td>0.5348</td>\n",
       "    </tr>\n",
       "    <tr>\n",
       "      <th>1</th>\n",
       "      <td>LR with customized loss function</td>\n",
       "      <td>0.9097</td>\n",
       "      <td>0.9656</td>\n",
       "      <td>0.5970</td>\n",
       "    </tr>\n",
       "  </tbody>\n",
       "</table>\n",
       "</div>"
      ],
      "text/plain": [
       "                              Model  Accuracy  ROC AUC  PR AUC\n",
       "0                          Naive LR    0.9676   0.9654  0.5348\n",
       "1  LR with customized loss function    0.9097   0.9656  0.5970"
      ]
     },
     "execution_count": 94,
     "metadata": {},
     "output_type": "execute_result"
    }
   ],
   "source": [
    "results_df"
   ]
  },
  {
   "cell_type": "markdown",
   "id": "1e0c3520-50dc-4449-a354-65d7ff124e68",
   "metadata": {},
   "source": [
    "\n",
    "Replacing the original binary cross entropy loss with a customized loss function which takes negative true into account, improves the precision-recall score from 0.53 to 0.59 while remains ROC score. It suggests the model's ability of discriminate between positive and negative class improves. We also observed that the less important metric accuracy dropped a bit (not significantly), which is acceptable because we are prioritizing identifying high death likelihood over overall classification correctness."
   ]
  },
  {
   "cell_type": "code",
   "execution_count": 99,
   "id": "6fc24ecf-ab5c-449b-938a-160856275d6f",
   "metadata": {
    "tags": []
   },
   "outputs": [],
   "source": [
    "model_names = ['LR trained with whole dataset', 'LR trained with smaller dataset', 'LR trained after dominant feature removal']\n",
    "accuracies = [0.9097, 0.9059, 0.9029]\n",
    "roc_scores = [0.9656, 0.9617, 0.9477]\n",
    "pr_scores = [0.5970, 0.9499, 0.9189 ]\n",
    "\n",
    "# Create a DataFrame\n",
    "results_df = pd.DataFrame({\n",
    "    'Model': model_names,\n",
    "    'Accuracy': accuracies,\n",
    "    'ROC AUC': roc_scores,\n",
    "    'PR AUC': pr_scores\n",
    "})"
   ]
  },
  {
   "cell_type": "code",
   "execution_count": 100,
   "id": "c982f23b-d6b6-47be-b22a-97b3cee44446",
   "metadata": {
    "tags": []
   },
   "outputs": [
    {
     "data": {
      "text/html": [
       "<div>\n",
       "<style scoped>\n",
       "    .dataframe tbody tr th:only-of-type {\n",
       "        vertical-align: middle;\n",
       "    }\n",
       "\n",
       "    .dataframe tbody tr th {\n",
       "        vertical-align: top;\n",
       "    }\n",
       "\n",
       "    .dataframe thead th {\n",
       "        text-align: right;\n",
       "    }\n",
       "</style>\n",
       "<table border=\"1\" class=\"dataframe\">\n",
       "  <thead>\n",
       "    <tr style=\"text-align: right;\">\n",
       "      <th></th>\n",
       "      <th>Model</th>\n",
       "      <th>Accuracy</th>\n",
       "      <th>ROC AUC</th>\n",
       "      <th>PR AUC</th>\n",
       "    </tr>\n",
       "  </thead>\n",
       "  <tbody>\n",
       "    <tr>\n",
       "      <th>0</th>\n",
       "      <td>LR trained with whole dataset</td>\n",
       "      <td>0.9097</td>\n",
       "      <td>0.9656</td>\n",
       "      <td>0.5970</td>\n",
       "    </tr>\n",
       "    <tr>\n",
       "      <th>1</th>\n",
       "      <td>LR trained with smaller dataset</td>\n",
       "      <td>0.9059</td>\n",
       "      <td>0.9617</td>\n",
       "      <td>0.9499</td>\n",
       "    </tr>\n",
       "    <tr>\n",
       "      <th>2</th>\n",
       "      <td>LR trained after dominant feature removal</td>\n",
       "      <td>0.9029</td>\n",
       "      <td>0.9477</td>\n",
       "      <td>0.9189</td>\n",
       "    </tr>\n",
       "  </tbody>\n",
       "</table>\n",
       "</div>"
      ],
      "text/plain": [
       "                                       Model  Accuracy  ROC AUC  PR AUC\n",
       "0              LR trained with whole dataset    0.9097   0.9656  0.5970\n",
       "1            LR trained with smaller dataset    0.9059   0.9617  0.9499\n",
       "2  LR trained after dominant feature removal    0.9029   0.9477  0.9189"
      ]
     },
     "execution_count": 100,
     "metadata": {},
     "output_type": "execute_result"
    }
   ],
   "source": [
    "results_df"
   ]
  },
  {
   "cell_type": "markdown",
   "id": "377f1fdd-cfd5-47f7-9c7f-7065678ac555",
   "metadata": {
    "tags": []
   },
   "source": [
    "\n",
    "Training the model with even number of class label (~ 28,000 true and 28,000 false) solve the data imbalance at the expense of much less amount of available training data. The precision-recall score improves a lot from 0.59 to 0.95, while ROC and accuracy remains around same. \n",
    "Training the model after the most dominant feature `icu_yn` being removed, we observed a very tiny drop in model's performance among 3 metrics, which shows the original model was not relying too much on that feature when making prediction. This indicates the model's great robustness.\n",
    "\n",
    "After all the experiments, we identify the model with customized loss function trained with even class label dataset as the best performing one, and you will be able to use that model through our [interface](https://cs475project-c17babadc414.herokuapp.com/)."
   ]
  },
  {
   "cell_type": "markdown",
   "id": "8559d853",
   "metadata": {},
   "source": [
    "### Random Forest"
   ]
  },
  {
   "cell_type": "code",
   "execution_count": 4,
   "id": "1de91357",
   "metadata": {},
   "outputs": [],
   "source": [
    "model_names = ['RF (Original)', 'RF trained w/o hospitalization & ICU admission status', 'RF w/ Balanced Class Size', 'RF w/ Balanced Class Size & 3-Fold Validation']\n",
    "accuracies = [0.9678, 0.9612, 0.9098, 0.9100]\n",
    "roc_scores = [0.9637, 0.8941, 0.9615,  0.9628]\n",
    "pr_scores = [0.5292, 0.2225, 0.9440, 0.9499]\n",
    "\n",
    "# Create a DataFrame\n",
    "results_df = pd.DataFrame({\n",
    "    'Model': model_names,\n",
    "    'Accuracy': accuracies,\n",
    "    'ROC AUC': roc_scores,\n",
    "    'PR AUC': pr_scores\n",
    "})"
   ]
  },
  {
   "cell_type": "code",
   "execution_count": 5,
   "id": "070e32a0",
   "metadata": {},
   "outputs": [
    {
     "data": {
      "text/html": [
       "<div>\n",
       "<style scoped>\n",
       "    .dataframe tbody tr th:only-of-type {\n",
       "        vertical-align: middle;\n",
       "    }\n",
       "\n",
       "    .dataframe tbody tr th {\n",
       "        vertical-align: top;\n",
       "    }\n",
       "\n",
       "    .dataframe thead th {\n",
       "        text-align: right;\n",
       "    }\n",
       "</style>\n",
       "<table border=\"1\" class=\"dataframe\">\n",
       "  <thead>\n",
       "    <tr style=\"text-align: right;\">\n",
       "      <th></th>\n",
       "      <th>Model</th>\n",
       "      <th>Accuracy</th>\n",
       "      <th>ROC AUC</th>\n",
       "      <th>PR AUC</th>\n",
       "    </tr>\n",
       "  </thead>\n",
       "  <tbody>\n",
       "    <tr>\n",
       "      <th>0</th>\n",
       "      <td>RF (Original)</td>\n",
       "      <td>0.9678</td>\n",
       "      <td>0.9637</td>\n",
       "      <td>0.5292</td>\n",
       "    </tr>\n",
       "    <tr>\n",
       "      <th>1</th>\n",
       "      <td>RF trained w/o hospitalization &amp; ICU admission...</td>\n",
       "      <td>0.9612</td>\n",
       "      <td>0.8941</td>\n",
       "      <td>0.2225</td>\n",
       "    </tr>\n",
       "    <tr>\n",
       "      <th>2</th>\n",
       "      <td>RF w/ Balanced Class Size</td>\n",
       "      <td>0.9098</td>\n",
       "      <td>0.9615</td>\n",
       "      <td>0.9440</td>\n",
       "    </tr>\n",
       "    <tr>\n",
       "      <th>3</th>\n",
       "      <td>RF w/ Balanced Class Size &amp; 3-Fold Validation</td>\n",
       "      <td>0.9100</td>\n",
       "      <td>0.9628</td>\n",
       "      <td>0.9499</td>\n",
       "    </tr>\n",
       "  </tbody>\n",
       "</table>\n",
       "</div>"
      ],
      "text/plain": [
       "                                               Model  Accuracy  ROC AUC  \\\n",
       "0                                      RF (Original)    0.9678   0.9637   \n",
       "1  RF trained w/o hospitalization & ICU admission...    0.9612   0.8941   \n",
       "2                          RF w/ Balanced Class Size    0.9098   0.9615   \n",
       "3      RF w/ Balanced Class Size & 3-Fold Validation    0.9100   0.9628   \n",
       "\n",
       "   PR AUC  \n",
       "0  0.5292  \n",
       "1  0.2225  \n",
       "2  0.9440  \n",
       "3  0.9499  "
      ]
     },
     "execution_count": 5,
     "metadata": {},
     "output_type": "execute_result"
    }
   ],
   "source": [
    "results_df"
   ]
  },
  {
   "cell_type": "markdown",
   "id": "7d978b6b",
   "metadata": {},
   "source": [
    "From the above table, we observed that Random Forest without the hospitalization & ICU admission resulted in a model with comparable testing accuracy but significantly worse pr_scores and slightly worse roc_scores. This indicates that our although our model is able to perform well on the test set, when it comes to our classification that our model fails to perform true positive predictions among all positive predictions.\n",
    "\n",
    "Next, we went about balancing the class size for Random Forest. Although a slight drop in testing accuracy, the confusion matrix results were much, much better which meant our classification capabilities were much more accurate. Given this, our model is overall better than our baseline model for Random Forest.\n",
    "\n",
    "Finally, we want to take our Random Forest w/ Balanced Class Size and optimize our hyperparameters where we chose to perform K-Fold Cross Validation with a value of $k=3$ and this resulted in improved performance for our metrics (although miniscule). Overall, our Random Forest best with a balanced class size and next steps could involve different methods of optimizing our Random Forest such as adjusting the number of trees, etc."
   ]
  },
  {
   "cell_type": "code",
   "execution_count": null,
   "id": "b646c48b",
   "metadata": {},
   "outputs": [],
   "source": []
  }
 ],
 "metadata": {
  "kernelspec": {
   "display_name": "Python 3 (ipykernel)",
   "language": "python",
   "name": "python3"
  },
  "language_info": {
   "codemirror_mode": {
    "name": "ipython",
    "version": 3
   },
   "file_extension": ".py",
   "mimetype": "text/x-python",
   "name": "python",
   "nbconvert_exporter": "python",
   "pygments_lexer": "ipython3",
   "version": "3.9.13"
  }
 },
 "nbformat": 4,
 "nbformat_minor": 5
}
